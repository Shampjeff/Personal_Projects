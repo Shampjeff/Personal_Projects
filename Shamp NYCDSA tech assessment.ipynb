{
 "cells": [
  {
   "cell_type": "markdown",
   "metadata": {},
   "source": [
    "## Question 1: Surveying"
   ]
  },
  {
   "cell_type": "markdown",
   "metadata": {},
   "source": [
    "General Approach: Use a Support Vector Machine for binary classification to iterate through sections of the photograph to trace straight-line distances along the ‘middle’ of the river. \n",
    "\n",
    "Classification: The photo gives clear color profile. The water is dark and the earth is light, so we can set pixel color parameters as thresholds on binary classification. If a given pixel reads darker than a predefined color, we will know it is water. Everything else reads as earth. \n",
    "\n",
    "Data preparation: We can load in the file and iterate through the pixels (or small clusters of pixels) and classify them as either water or earth. This should create a binary map: 0 is earth, and 1 is water. \n",
    "\n",
    "Algorithm: This process should be akin to a support vector machine. First, we can divide the photograph into ‘n’ number squares. For each square, we can determine the width of all the pixels classified as water draw a line that best approximates the midline of water. If we know where the line starts and ends, we can compute distance of the line for that square. We can than iterate to the next neighbor square and continue the process, keeping a running list of the lengths of the river. \n",
    "\n",
    "Things to consider: The ridges and nooks within the photo could cause some issue with length calculation, however finding the middle point of water should reduce error associated with these edge effects as long as the pixel squares are large enough. \n",
    "\n",
    "Some experimentation will be needed to find the right pixel square size. Too larger, and you won’t be able to draw a line through all the water in a given pixel. Too small and error due to edge effects could be an issue as could finding the correct nearest neighbor square to continue moving down river. \n"
   ]
  },
  {
   "cell_type": "markdown",
   "metadata": {},
   "source": [
    "## Question 2: Purchases dataframe"
   ]
  },
  {
   "cell_type": "code",
   "execution_count": 27,
   "metadata": {},
   "outputs": [],
   "source": [
    "import pandas as pd"
   ]
  },
  {
   "cell_type": "code",
   "execution_count": 28,
   "metadata": {},
   "outputs": [],
   "source": [
    "day_i = [\"Bob: 120\", \"Alice: 100\", \"Celia: 110\"] # What's given by the problem"
   ]
  },
  {
   "cell_type": "code",
   "execution_count": 29,
   "metadata": {},
   "outputs": [
    {
     "data": {
      "text/plain": [
       "{'Bob': ' 120', 'Alice': ' 100', 'Celia': ' 110'}"
      ]
     },
     "execution_count": 29,
     "metadata": {},
     "output_type": "execute_result"
    }
   ],
   "source": [
    "day_i = dict(map(lambda x:x.split(\":\"), day_i)) #spliting up the list of strings into a dictionary to track customers by purchase\n",
    "day_i"
   ]
  },
  {
   "cell_type": "code",
   "execution_count": 30,
   "metadata": {},
   "outputs": [],
   "source": [
    "C = list(day_i.keys()) # makes a list of all the custumers\n",
    "P = list(day_i.values()) # makes a list of those customers purchases"
   ]
  },
  {
   "cell_type": "code",
   "execution_count": 31,
   "metadata": {},
   "outputs": [
    {
     "data": {
      "text/plain": [
       "{'Customers': ['Bob', 'Alice', 'Celia'],\n",
       " 'Total Purchase': [' 120', ' 100', ' 110']}"
      ]
     },
     "execution_count": 31,
     "metadata": {},
     "output_type": "execute_result"
    }
   ],
   "source": [
    "day_purchase = {'Customers': C,'Total Purchase': P} \n",
    "day_purchase\n",
    "# Pandas likes dictionaries with embedded lists. Here 'Customers' is a list of keys and 'Purchases' is list of values from above."
   ]
  },
  {
   "cell_type": "code",
   "execution_count": 32,
   "metadata": {},
   "outputs": [
    {
     "data": {
      "text/html": [
       "<div>\n",
       "<style scoped>\n",
       "    .dataframe tbody tr th:only-of-type {\n",
       "        vertical-align: middle;\n",
       "    }\n",
       "\n",
       "    .dataframe tbody tr th {\n",
       "        vertical-align: top;\n",
       "    }\n",
       "\n",
       "    .dataframe thead th {\n",
       "        text-align: right;\n",
       "    }\n",
       "</style>\n",
       "<table border=\"1\" class=\"dataframe\">\n",
       "  <thead>\n",
       "    <tr style=\"text-align: right;\">\n",
       "      <th></th>\n",
       "      <th>Customers</th>\n",
       "      <th>Total Purchase</th>\n",
       "    </tr>\n",
       "  </thead>\n",
       "  <tbody>\n",
       "    <tr>\n",
       "      <th>0</th>\n",
       "      <td>Bob</td>\n",
       "      <td>120</td>\n",
       "    </tr>\n",
       "    <tr>\n",
       "      <th>1</th>\n",
       "      <td>Alice</td>\n",
       "      <td>100</td>\n",
       "    </tr>\n",
       "    <tr>\n",
       "      <th>2</th>\n",
       "      <td>Celia</td>\n",
       "      <td>110</td>\n",
       "    </tr>\n",
       "  </tbody>\n",
       "</table>\n",
       "</div>"
      ],
      "text/plain": [
       "  Customers Total Purchase\n",
       "0       Bob            120\n",
       "1     Alice            100\n",
       "2     Celia            110"
      ]
     },
     "execution_count": 32,
     "metadata": {},
     "output_type": "execute_result"
    }
   ],
   "source": [
    "Purchase_df = pd.DataFrame.from_dict(day_purchase)\n",
    "Purchase_df # result"
   ]
  },
  {
   "cell_type": "markdown",
   "metadata": {},
   "source": [
    "## Question 3: Bad Psychic"
   ]
  },
  {
   "cell_type": "code",
   "execution_count": 26,
   "metadata": {},
   "outputs": [
    {
     "name": "stdout",
     "output_type": "stream",
     "text": [
      "What is the range of your number?\n",
      "250, 10000\n",
      "SECRET NUMBER IS 658!\n",
      "Is your number greater than 5125? Please answer yes or no.\n",
      "no\n",
      "Ahhh yes, I see. Is it greater than or equal to 2688?\n",
      "no\n",
      "Ahhh yes, I see. Is it greater than or equal to 1469?\n",
      "no\n",
      "Ahhh yes, I see. Is it greater than or equal to 860?\n",
      "no\n",
      "Ahhh yes, I see. Is it greater than or equal to 555?\n",
      "yes\n",
      "Ahhh yes, I see. Is it greater than or equal to 707?\n",
      "no\n",
      "Ahhh yes, I see. Is it greater than or equal to 631?\n",
      "yes\n",
      "Ahhh yes, I see. Is it greater than or equal to 669?\n",
      "no\n",
      "Ahhh yes, I see. Is it greater than or equal to 650?\n",
      "yes\n",
      "Ahhh yes, I see. Is it greater than or equal to 659?\n",
      "no\n",
      "Ahhh yes, I see. Is it greater than or equal to 655?\n",
      "yes\n",
      "Ahhh yes, I see. Is it greater than or equal to 657?\n",
      "yes\n",
      "Ahhh yes, I see. Is it greater than or equal to 658?\n",
      "you guessed it!\n"
     ]
    }
   ],
   "source": [
    "import numpy as np\n",
    "import math\n",
    "\n",
    "print('What is the range of your number?') # two numbers, comma separated. If the number is correct reply \"you guessed it!\"\n",
    "r = input()\n",
    "num = r.split(',')\n",
    "secret_number = np.random.randint(int(num[0]),int(num[1])) # random number integer given client's start and end range.\n",
    "print(f'SECRET NUMBER IS {secret_number}!') # This is for the purposes of evaluating the correctness of the program. \n",
    "end = int(num[1]) # unpacking the input for computation.\n",
    "start = int(num[0])\n",
    "mid = int((end-start)/2) + start\n",
    "bi_search = int(math.log2((end-start)+1)) # This is binary search problem. The answer should be found within this number of guesses. \n",
    "search = 0\n",
    "increment = 0 # initial variables for the loop. \n",
    "\n",
    "print(f'Is your number greater than {mid}? Please answer yes or no.')\n",
    "guess = input()\n",
    "while search <= bi_search: # This search works by halving the range needed to guess correctly.\n",
    "    increment = increment # 'saves' the increment between yes and no answers.\n",
    "    if guess == 'yes':\n",
    "        increment = int((end-mid)/2) # This havles the space between boundaries based on yes and no answers.\n",
    "        new_mid = increment + mid\n",
    "        print(f'Ahhh yes, I see. Is it greater than or equal to {new_mid}?')\n",
    "        guess = input()\n",
    "        search = search+1 # counts the while loop.\n",
    "        start = mid # resets the range on which to guess.\n",
    "        mid = new_mid\n",
    "    else:\n",
    "        increment = int((mid-start)/2) # Same process for no replies.\n",
    "        new_mid = int(abs(increment - mid))\n",
    "        print(f'Ahhh yes, I see. Is it greater than or equal to {new_mid}?')\n",
    "        guess = input()\n",
    "        search = search+1\n",
    "        end=mid\n",
    "        mid=new_mid\n",
    "    if guess == 'you guessed it!': \n",
    "        break"
   ]
  },
  {
   "cell_type": "markdown",
   "metadata": {},
   "source": [
    "## Question 4: Fit and Feedback"
   ]
  },
  {
   "cell_type": "markdown",
   "metadata": {},
   "source": [
    "I chose the Webscraping in python video. It is something I know nothing about, so I figured it would be a fresh prespective.\n",
    "\n",
    "A) The NYCDSA classroom seems like a good fit for me for the following reasons. \n",
    "\n",
    "As someone who has been a classroom teacher for a long time and as someone who enjoys learning new things, I generally like the format of background lecture on a new topic followed shortly by couple of hands-on examples of how to use the material presented. In that regard, the Scrapy lecture fit that mold well. It was nice overview of syntax and methods followed by an example from the Academy Awards. \n",
    "\n",
    "It seemed like the classroom was set up as a dual screen enviroment where the instructor had their slides/screen for the presentation and students had their machines open as well. I like to be able to listen to content, try something on my machine, ask questions, and keep moving. That process helps me reinforce the material as it is being presented. It also helps me clear up syntax issues early on so that they are not an issue later during a project or assignment. \n",
    "\n",
    "Lastly, I like that not all of the material is packaged into the same IDE. The instructor mentions that Jupyter notebooks are great for many things, but it's not the only (or always best) development environment. The rest of the lecture and examples take place in sublime editor and commmand line. I like that students will get exposure to a variety of envirnoments and methods for two main reasons. 1) not all employers will use the same IDE, and 2) students will have the ability to experiment with different workflow methods. \n",
    "\n",
    "\n",
    "B) One suggestion I would have is to better integrate lecture content with hands-on use. The more students have to write code, even the basic stuff, the better they will be. Remembering snytax and initialization, working through mistakes, and practicing several examples is, for me, a great way to learn. So the more examples are integrated into lectures, the better I will retain the information. "
   ]
  },
  {
   "cell_type": "code",
   "execution_count": null,
   "metadata": {},
   "outputs": [],
   "source": []
  }
 ],
 "metadata": {
  "kernelspec": {
   "display_name": "Python 3",
   "language": "python",
   "name": "python3"
  },
  "language_info": {
   "codemirror_mode": {
    "name": "ipython",
    "version": 3
   },
   "file_extension": ".py",
   "mimetype": "text/x-python",
   "name": "python",
   "nbconvert_exporter": "python",
   "pygments_lexer": "ipython3",
   "version": "3.7.0"
  }
 },
 "nbformat": 4,
 "nbformat_minor": 2
}
