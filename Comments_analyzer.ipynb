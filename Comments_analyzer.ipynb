{
 "cells": [
  {
   "cell_type": "markdown",
   "metadata": {},
   "source": [
    "## Comment Analyzer\n",
    "This is a file that works through some strategies for analyzing student comments written by teachers. I am using my own comments from that last 3 years as a initial data. \n",
    "\n",
    "I tried a some topic modeling as well as sentiment analysis. I used the sentiment scores to find comments where anomalous in some way. "
   ]
  },
  {
   "cell_type": "code",
   "execution_count": 1,
   "metadata": {},
   "outputs": [],
   "source": [
    "import spacy \n",
    "import numpy as np\n",
    "import pandas as pd"
   ]
  },
  {
   "cell_type": "code",
   "execution_count": 3,
   "metadata": {},
   "outputs": [],
   "source": [
    "nlp = spacy.load('en_core_web_sm')"
   ]
  },
  {
   "cell_type": "code",
   "execution_count": 13,
   "metadata": {},
   "outputs": [],
   "source": [
    "df = pd.read_csv('Comments_2019_v2.txt', sep=\"\\n\")\n",
    "df.columns= [\"Comment\"]"
   ]
  },
  {
   "cell_type": "markdown",
   "metadata": {},
   "source": [
    "Teacher comments are typically written in a document where paragraphs separate students. \n",
    "\n",
    "This structures that form of comment document into a DataFrame and tokenizes the comment."
   ]
  },
  {
   "cell_type": "code",
   "execution_count": 5,
   "metadata": {},
   "outputs": [],
   "source": [
    "def name_extract(df): \n",
    "    names = []\n",
    "    for i in df.index:\n",
    "        doc_iter = nlp(df[\"Comment\"][i])\n",
    "        sents = [sent for sent in doc_iter.sents]\n",
    "        if len(sents) == 1: \n",
    "            names.append(sents[0])\n",
    "            df.drop(i, axis=0, inplace=True)\n",
    "    return names"
   ]
  },
  {
   "cell_type": "code",
   "execution_count": 14,
   "metadata": {},
   "outputs": [],
   "source": [
    "students = name_extract(df)"
   ]
  },
  {
   "cell_type": "code",
   "execution_count": 15,
   "metadata": {},
   "outputs": [],
   "source": [
    "df[\"student names\"] = students"
   ]
  },
  {
   "cell_type": "code",
   "execution_count": 16,
   "metadata": {},
   "outputs": [],
   "source": [
    "# structure the comments by first name, last name, and comment\n",
    "df['last name'] = df['student names'].apply(lambda x: x[1])\n",
    "df['first name'] = df['student names'].apply(lambda x: x[0])\n",
    "df.drop('student names', axis = 1, inplace=True)"
   ]
  },
  {
   "cell_type": "markdown",
   "metadata": {},
   "source": [
    "## Topic modeling"
   ]
  },
  {
   "cell_type": "code",
   "execution_count": 49,
   "metadata": {},
   "outputs": [],
   "source": [
    "from sklearn.feature_extraction.text import TfidfVectorizer\n",
    "tfidf = TfidfVectorizer(max_df=.94, min_df=2, stop_words='english')"
   ]
  },
  {
   "cell_type": "code",
   "execution_count": 50,
   "metadata": {},
   "outputs": [],
   "source": [
    "dtm = tfidf.fit_transform(df['Comment'])"
   ]
  },
  {
   "cell_type": "code",
   "execution_count": 51,
   "metadata": {},
   "outputs": [],
   "source": [
    "from sklearn.decomposition import NMF\n",
    "nmf_model = NMF(random_state=101, n_components=4)"
   ]
  },
  {
   "cell_type": "code",
   "execution_count": 52,
   "metadata": {},
   "outputs": [
    {
     "data": {
      "text/plain": [
       "NMF(alpha=0.0, beta_loss='frobenius', init=None, l1_ratio=0.0, max_iter=200,\n",
       "  n_components=4, random_state=101, shuffle=False, solver='cd', tol=0.0001,\n",
       "  verbose=0)"
      ]
     },
     "execution_count": 52,
     "metadata": {},
     "output_type": "execute_result"
    }
   ],
   "source": [
    "nmf_model.fit(dtm)"
   ]
  },
  {
   "cell_type": "code",
   "execution_count": 53,
   "metadata": {},
   "outputs": [
    {
     "name": "stdout",
     "output_type": "stream",
     "text": [
      "THE TOP 20 WORDS FOR TOPIC #0\n",
      "['feel', 'test', 'quarter', 'year', 'extra', 'review', 'scores', 'unfamiliar', 'situations', 'apply', 'quiz', 'knowledge', 'questions', 'solid', 'new', 'excellent', 'material', 'work', 'started', 'great']\n",
      "\n",
      "\n",
      "THE TOP 20 WORDS FOR TOPIC #1\n",
      "['build', 'necessary', 'confused', 'feeling', 'use', 'postulates', 'overwhelmed', 'significantly', 'skills', 'proofs', 'proof', 'theorems', 'year', 'test', 'geometry', 'assessment', 'expect', 'time', 'chapter', 'writing']\n",
      "\n",
      "\n",
      "THE TOP 20 WORDS FOR TOPIC #2\n",
      "['lines', 'mind', 'draw', 'proof', 'visualize', 'spatial', 'congruent', 'diagram', 'manipulate', 'head', 'higher', 'separating', 'development', 'diagrams', 'long', 'paying', 'orientation', 'understand', 'skills', 'shapes']\n",
      "\n",
      "\n",
      "THE TOP 20 WORDS FOR TOPIC #3\n",
      "['school', 'socializing', 'struggled', 'job', 'difficulty', 'year', 'left', 'time', 'solving', 'good', 'improve', 'spring', 'topics', 'challenging', 'material', 'problems', 'work', 'second', 'exam', 'semester']\n",
      "\n",
      "\n"
     ]
    }
   ],
   "source": [
    "for index,topic in enumerate(nmf_model.components_):\n",
    "   print(f'THE TOP 20 WORDS FOR TOPIC #{index}')\n",
    "   print([tfidf.get_feature_names()[i] for i in topic.argsort()[-20:]])\n",
    "   print('\\n')"
   ]
  },
  {
   "cell_type": "markdown",
   "metadata": {},
   "source": [
    "There are topics here that can be separated though I do not have enough well varied data to create more clear topics"
   ]
  },
  {
   "cell_type": "markdown",
   "metadata": {},
   "source": [
    "## Sentiment Analysis"
   ]
  },
  {
   "cell_type": "code",
   "execution_count": 10,
   "metadata": {},
   "outputs": [],
   "source": [
    "from nltk.sentiment.vader import SentimentIntensityAnalyzer\n",
    "sid = SentimentIntensityAnalyzer()"
   ]
  },
  {
   "cell_type": "code",
   "execution_count": 17,
   "metadata": {},
   "outputs": [],
   "source": [
    "df['scores'] = df['Comment'].apply(lambda comment: sid.polarity_scores(comment)) # assign sentiment scores\n",
    "\n",
    "df['negative'] = df['scores'].apply(lambda score_dict: score_dict['neg'])\n",
    "df['positive'] = df['scores'].apply(lambda score_dict: score_dict['pos'])\n",
    "df['neutral'] = df['scores'].apply(lambda score_dict: score_dict['neu'])\n",
    "df['compound'] = df['scores'].apply(lambda score_dict: score_dict['compound'])\n",
    "\n",
    "df.drop(['scores', 'first name', 'last name'], axis=1, inplace=True)"
   ]
  },
  {
   "cell_type": "code",
   "execution_count": 18,
   "metadata": {},
   "outputs": [
    {
     "data": {
      "text/html": [
       "<div>\n",
       "<style scoped>\n",
       "    .dataframe tbody tr th:only-of-type {\n",
       "        vertical-align: middle;\n",
       "    }\n",
       "\n",
       "    .dataframe tbody tr th {\n",
       "        vertical-align: top;\n",
       "    }\n",
       "\n",
       "    .dataframe thead th {\n",
       "        text-align: right;\n",
       "    }\n",
       "</style>\n",
       "<table border=\"1\" class=\"dataframe\">\n",
       "  <thead>\n",
       "    <tr style=\"text-align: right;\">\n",
       "      <th></th>\n",
       "      <th>Comment</th>\n",
       "      <th>negative</th>\n",
       "      <th>positive</th>\n",
       "      <th>neutral</th>\n",
       "      <th>compound</th>\n",
       "    </tr>\n",
       "  </thead>\n",
       "  <tbody>\n",
       "    <tr>\n",
       "      <th>1</th>\n",
       "      <td>With consistently solid scores thus far in the...</td>\n",
       "      <td>0.042</td>\n",
       "      <td>0.247</td>\n",
       "      <td>0.712</td>\n",
       "      <td>0.9852</td>\n",
       "    </tr>\n",
       "    <tr>\n",
       "      <th>3</th>\n",
       "      <td>Vasudha, excellent job thus far this year. You...</td>\n",
       "      <td>0.024</td>\n",
       "      <td>0.216</td>\n",
       "      <td>0.760</td>\n",
       "      <td>0.9766</td>\n",
       "    </tr>\n",
       "    <tr>\n",
       "      <th>5</th>\n",
       "      <td>Geometry has been tough this year, Gia but I a...</td>\n",
       "      <td>0.056</td>\n",
       "      <td>0.223</td>\n",
       "      <td>0.721</td>\n",
       "      <td>0.9904</td>\n",
       "    </tr>\n",
       "    <tr>\n",
       "      <th>7</th>\n",
       "      <td>Solid start to the second semester, JJ you see...</td>\n",
       "      <td>0.047</td>\n",
       "      <td>0.226</td>\n",
       "      <td>0.727</td>\n",
       "      <td>0.9743</td>\n",
       "    </tr>\n",
       "    <tr>\n",
       "      <th>9</th>\n",
       "      <td>Great work this semester, Sean you seem to be ...</td>\n",
       "      <td>0.078</td>\n",
       "      <td>0.256</td>\n",
       "      <td>0.666</td>\n",
       "      <td>0.9841</td>\n",
       "    </tr>\n",
       "  </tbody>\n",
       "</table>\n",
       "</div>"
      ],
      "text/plain": [
       "                                             Comment  negative  positive  \\\n",
       "1  With consistently solid scores thus far in the...     0.042     0.247   \n",
       "3  Vasudha, excellent job thus far this year. You...     0.024     0.216   \n",
       "5  Geometry has been tough this year, Gia but I a...     0.056     0.223   \n",
       "7  Solid start to the second semester, JJ you see...     0.047     0.226   \n",
       "9  Great work this semester, Sean you seem to be ...     0.078     0.256   \n",
       "\n",
       "   neutral  compound  \n",
       "1    0.712    0.9852  \n",
       "3    0.760    0.9766  \n",
       "5    0.721    0.9904  \n",
       "7    0.727    0.9743  \n",
       "9    0.666    0.9841  "
      ]
     },
     "execution_count": 18,
     "metadata": {},
     "output_type": "execute_result"
    }
   ],
   "source": [
    "df.head()"
   ]
  },
  {
   "cell_type": "code",
   "execution_count": 19,
   "metadata": {},
   "outputs": [
    {
     "data": {
      "text/html": [
       "<div>\n",
       "<style scoped>\n",
       "    .dataframe tbody tr th:only-of-type {\n",
       "        vertical-align: middle;\n",
       "    }\n",
       "\n",
       "    .dataframe tbody tr th {\n",
       "        vertical-align: top;\n",
       "    }\n",
       "\n",
       "    .dataframe thead th {\n",
       "        text-align: right;\n",
       "    }\n",
       "</style>\n",
       "<table border=\"1\" class=\"dataframe\">\n",
       "  <thead>\n",
       "    <tr style=\"text-align: right;\">\n",
       "      <th></th>\n",
       "      <th>negative</th>\n",
       "      <th>positive</th>\n",
       "      <th>neutral</th>\n",
       "      <th>compound</th>\n",
       "    </tr>\n",
       "  </thead>\n",
       "  <tbody>\n",
       "    <tr>\n",
       "      <th>count</th>\n",
       "      <td>200.000000</td>\n",
       "      <td>200.000000</td>\n",
       "      <td>200.000000</td>\n",
       "      <td>200.000000</td>\n",
       "    </tr>\n",
       "    <tr>\n",
       "      <th>mean</th>\n",
       "      <td>0.044035</td>\n",
       "      <td>0.186180</td>\n",
       "      <td>0.769850</td>\n",
       "      <td>0.934564</td>\n",
       "    </tr>\n",
       "    <tr>\n",
       "      <th>std</th>\n",
       "      <td>0.028776</td>\n",
       "      <td>0.047939</td>\n",
       "      <td>0.051209</td>\n",
       "      <td>0.111539</td>\n",
       "    </tr>\n",
       "    <tr>\n",
       "      <th>min</th>\n",
       "      <td>0.000000</td>\n",
       "      <td>0.071000</td>\n",
       "      <td>0.581000</td>\n",
       "      <td>-0.165500</td>\n",
       "    </tr>\n",
       "    <tr>\n",
       "      <th>25%</th>\n",
       "      <td>0.020000</td>\n",
       "      <td>0.151000</td>\n",
       "      <td>0.733000</td>\n",
       "      <td>0.934650</td>\n",
       "    </tr>\n",
       "    <tr>\n",
       "      <th>50%</th>\n",
       "      <td>0.042000</td>\n",
       "      <td>0.182000</td>\n",
       "      <td>0.770000</td>\n",
       "      <td>0.967500</td>\n",
       "    </tr>\n",
       "    <tr>\n",
       "      <th>75%</th>\n",
       "      <td>0.060000</td>\n",
       "      <td>0.220250</td>\n",
       "      <td>0.807000</td>\n",
       "      <td>0.980225</td>\n",
       "    </tr>\n",
       "    <tr>\n",
       "      <th>max</th>\n",
       "      <td>0.117000</td>\n",
       "      <td>0.359000</td>\n",
       "      <td>0.884000</td>\n",
       "      <td>0.995400</td>\n",
       "    </tr>\n",
       "  </tbody>\n",
       "</table>\n",
       "</div>"
      ],
      "text/plain": [
       "         negative    positive     neutral    compound\n",
       "count  200.000000  200.000000  200.000000  200.000000\n",
       "mean     0.044035    0.186180    0.769850    0.934564\n",
       "std      0.028776    0.047939    0.051209    0.111539\n",
       "min      0.000000    0.071000    0.581000   -0.165500\n",
       "25%      0.020000    0.151000    0.733000    0.934650\n",
       "50%      0.042000    0.182000    0.770000    0.967500\n",
       "75%      0.060000    0.220250    0.807000    0.980225\n",
       "max      0.117000    0.359000    0.884000    0.995400"
      ]
     },
     "execution_count": 19,
     "metadata": {},
     "output_type": "execute_result"
    }
   ],
   "source": [
    "desc_df = df.describe()\n",
    "desc_df"
   ]
  },
  {
   "cell_type": "code",
   "execution_count": 59,
   "metadata": {},
   "outputs": [],
   "source": [
    "import matplotlib.pyplot as plt\n",
    "%matplotlib inline"
   ]
  },
  {
   "cell_type": "code",
   "execution_count": 60,
   "metadata": {
    "scrolled": true
   },
   "outputs": [
    {
     "data": {
      "text/plain": [
       "Text(0.5, 1.0, 'neutral distribution')"
      ]
     },
     "execution_count": 60,
     "metadata": {},
     "output_type": "execute_result"
    },
    {
     "data": {
      "image/png": "[encoded data removed]",
      "text/plain": [
       "<Figure size 1080x360 with 3 Axes>"
      ]
     },
     "metadata": {
      "needs_background": "light"
     },
     "output_type": "display_data"
    }
   ],
   "source": [
    "fig = plt.figure(figsize=(15,5)) # Let's look at score distribution. \n",
    "ax = fig.add_subplot(131)\n",
    "ax = df.negative.hist(bins=15)\n",
    "ax.set_title('negative distribution')\n",
    "ax1 = fig.add_subplot(132)\n",
    "ax1 = df.positive.hist(bins=15)\n",
    "ax1.set_title('positive distribution')\n",
    "ax2 = fig.add_subplot(133)\n",
    "ax2 = df['neutral'].hist(bins=20)\n",
    "ax2.set_title('neutral distribution')\n"
   ]
  },
  {
   "cell_type": "markdown",
   "metadata": {},
   "source": [
    "# Let's look at how this sentiment scores play out in terms of comments"
   ]
  },
  {
   "cell_type": "markdown",
   "metadata": {},
   "source": [
    "First, let's look at the highest negative and positive scores to see they match up to what we know about the students.\n",
    "\n",
    "Strugglers should have a very high negative score and below average positive scores.\n",
    "\n",
    "Should be a pretty direct comment if they need help in a specific topic area."
   ]
  },
  {
   "cell_type": "code",
   "execution_count": 26,
   "metadata": {},
   "outputs": [
    {
     "data": {
      "text/html": [
       "<div>\n",
       "<style scoped>\n",
       "    .dataframe tbody tr th:only-of-type {\n",
       "        vertical-align: middle;\n",
       "    }\n",
       "\n",
       "    .dataframe tbody tr th {\n",
       "        vertical-align: top;\n",
       "    }\n",
       "\n",
       "    .dataframe thead th {\n",
       "        text-align: right;\n",
       "    }\n",
       "</style>\n",
       "<table border=\"1\" class=\"dataframe\">\n",
       "  <thead>\n",
       "    <tr style=\"text-align: right;\">\n",
       "      <th></th>\n",
       "      <th>Comment</th>\n",
       "      <th>negative</th>\n",
       "      <th>positive</th>\n",
       "      <th>neutral</th>\n",
       "      <th>compound</th>\n",
       "    </tr>\n",
       "  </thead>\n",
       "  <tbody>\n",
       "    <tr>\n",
       "      <th>25</th>\n",
       "      <td>Great job taking on some very challenging subj...</td>\n",
       "      <td>0.102</td>\n",
       "      <td>0.143</td>\n",
       "      <td>0.755</td>\n",
       "      <td>0.9005</td>\n",
       "    </tr>\n",
       "    <tr>\n",
       "      <th>67</th>\n",
       "      <td>Academically, you have started the second seme...</td>\n",
       "      <td>0.099</td>\n",
       "      <td>0.140</td>\n",
       "      <td>0.761</td>\n",
       "      <td>0.6597</td>\n",
       "    </tr>\n",
       "    <tr>\n",
       "      <th>81</th>\n",
       "      <td>Trigonometry has been very challenging for you...</td>\n",
       "      <td>0.116</td>\n",
       "      <td>0.185</td>\n",
       "      <td>0.700</td>\n",
       "      <td>0.9446</td>\n",
       "    </tr>\n",
       "    <tr>\n",
       "      <th>141</th>\n",
       "      <td>With consistently solid scores thus far in the...</td>\n",
       "      <td>0.096</td>\n",
       "      <td>0.153</td>\n",
       "      <td>0.751</td>\n",
       "      <td>0.7600</td>\n",
       "    </tr>\n",
       "    <tr>\n",
       "      <th>151</th>\n",
       "      <td>After a very challenging start to the year, Co...</td>\n",
       "      <td>0.097</td>\n",
       "      <td>0.130</td>\n",
       "      <td>0.773</td>\n",
       "      <td>0.7735</td>\n",
       "    </tr>\n",
       "    <tr>\n",
       "      <th>187</th>\n",
       "      <td>Phineas, you had a great start to year scoring...</td>\n",
       "      <td>0.117</td>\n",
       "      <td>0.157</td>\n",
       "      <td>0.727</td>\n",
       "      <td>0.7688</td>\n",
       "    </tr>\n",
       "    <tr>\n",
       "      <th>191</th>\n",
       "      <td>Self-advocacy, maximizing time in class, and c...</td>\n",
       "      <td>0.109</td>\n",
       "      <td>0.168</td>\n",
       "      <td>0.723</td>\n",
       "      <td>0.8793</td>\n",
       "    </tr>\n",
       "    <tr>\n",
       "      <th>257</th>\n",
       "      <td>After a tough start to the second semester, I ...</td>\n",
       "      <td>0.089</td>\n",
       "      <td>0.168</td>\n",
       "      <td>0.743</td>\n",
       "      <td>0.9549</td>\n",
       "    </tr>\n",
       "    <tr>\n",
       "      <th>299</th>\n",
       "      <td>With a dogged work ethic and meticulous attent...</td>\n",
       "      <td>0.102</td>\n",
       "      <td>0.165</td>\n",
       "      <td>0.734</td>\n",
       "      <td>0.7430</td>\n",
       "    </tr>\n",
       "    <tr>\n",
       "      <th>303</th>\n",
       "      <td>This semester has been a challenge for you, Au...</td>\n",
       "      <td>0.105</td>\n",
       "      <td>0.152</td>\n",
       "      <td>0.743</td>\n",
       "      <td>0.8272</td>\n",
       "    </tr>\n",
       "    <tr>\n",
       "      <th>395</th>\n",
       "      <td>Solid start to the year, Ezra you seem to unde...</td>\n",
       "      <td>0.106</td>\n",
       "      <td>0.135</td>\n",
       "      <td>0.760</td>\n",
       "      <td>0.6365</td>\n",
       "    </tr>\n",
       "  </tbody>\n",
       "</table>\n",
       "</div>"
      ],
      "text/plain": [
       "                                               Comment  negative  positive  \\\n",
       "25   Great job taking on some very challenging subj...     0.102     0.143   \n",
       "67   Academically, you have started the second seme...     0.099     0.140   \n",
       "81   Trigonometry has been very challenging for you...     0.116     0.185   \n",
       "141  With consistently solid scores thus far in the...     0.096     0.153   \n",
       "151  After a very challenging start to the year, Co...     0.097     0.130   \n",
       "187  Phineas, you had a great start to year scoring...     0.117     0.157   \n",
       "191  Self-advocacy, maximizing time in class, and c...     0.109     0.168   \n",
       "257  After a tough start to the second semester, I ...     0.089     0.168   \n",
       "299  With a dogged work ethic and meticulous attent...     0.102     0.165   \n",
       "303  This semester has been a challenge for you, Au...     0.105     0.152   \n",
       "395  Solid start to the year, Ezra you seem to unde...     0.106     0.135   \n",
       "\n",
       "     neutral  compound  \n",
       "25     0.755    0.9005  \n",
       "67     0.761    0.6597  \n",
       "81     0.700    0.9446  \n",
       "141    0.751    0.7600  \n",
       "151    0.773    0.7735  \n",
       "187    0.727    0.7688  \n",
       "191    0.723    0.8793  \n",
       "257    0.743    0.9549  \n",
       "299    0.734    0.7430  \n",
       "303    0.743    0.8272  \n",
       "395    0.760    0.6365  "
      ]
     },
     "execution_count": 26,
     "metadata": {},
     "output_type": "execute_result"
    }
   ],
   "source": [
    "one_std_top_quarter_neg = desc_df['negative'][6]+ desc_df['negative'][2]\n",
    "one_std_top_quarter_pos = desc_df['positive'][6]+ desc_df['positive'][2]\n",
    "mean_positive = desc_df['positive'][1]\n",
    "df[(df['negative'] >= one_std_top_quarter_neg) & (df['positive']<= mean_positive)]"
   ]
  },
  {
   "cell_type": "markdown",
   "metadata": {},
   "source": [
    "These student above have largely struggled in math. A few exceptions stand out though."
   ]
  },
  {
   "cell_type": "code",
   "execution_count": 23,
   "metadata": {},
   "outputs": [
    {
     "data": {
      "text/html": [
       "<div>\n",
       "<style scoped>\n",
       "    .dataframe tbody tr th:only-of-type {\n",
       "        vertical-align: middle;\n",
       "    }\n",
       "\n",
       "    .dataframe tbody tr th {\n",
       "        vertical-align: top;\n",
       "    }\n",
       "\n",
       "    .dataframe thead th {\n",
       "        text-align: right;\n",
       "    }\n",
       "</style>\n",
       "<table border=\"1\" class=\"dataframe\">\n",
       "  <thead>\n",
       "    <tr style=\"text-align: right;\">\n",
       "      <th></th>\n",
       "      <th>Comment</th>\n",
       "      <th>negative</th>\n",
       "      <th>positive</th>\n",
       "      <th>neutral</th>\n",
       "      <th>compound</th>\n",
       "    </tr>\n",
       "  </thead>\n",
       "  <tbody>\n",
       "    <tr>\n",
       "      <th>27</th>\n",
       "      <td>Great second semester, Grant your work is cons...</td>\n",
       "      <td>0.06</td>\n",
       "      <td>0.359</td>\n",
       "      <td>0.581</td>\n",
       "      <td>0.9807</td>\n",
       "    </tr>\n",
       "    <tr>\n",
       "      <th>389</th>\n",
       "      <td>With consistently excellent test and quiz scor...</td>\n",
       "      <td>0.00</td>\n",
       "      <td>0.299</td>\n",
       "      <td>0.701</td>\n",
       "      <td>0.9929</td>\n",
       "    </tr>\n",
       "  </tbody>\n",
       "</table>\n",
       "</div>"
      ],
      "text/plain": [
       "                                               Comment  negative  positive  \\\n",
       "27   Great second semester, Grant your work is cons...      0.06     0.359   \n",
       "389  With consistently excellent test and quiz scor...      0.00     0.299   \n",
       "\n",
       "     neutral  compound  \n",
       "27     0.581    0.9807  \n",
       "389    0.701    0.9929  "
      ]
     },
     "execution_count": 23,
     "metadata": {},
     "output_type": "execute_result"
    }
   ],
   "source": [
    "highest_positive = desc_df['positive'][7]-1.5*(desc_df['positive'][2])\n",
    "df[df['positive'] >= highest_positive]"
   ]
  },
  {
   "cell_type": "markdown",
   "metadata": {},
   "source": [
    "The students within 1.5 standard deviations from the maximum positive score seem to make sense. "
   ]
  },
  {
   "cell_type": "code",
   "execution_count": 24,
   "metadata": {},
   "outputs": [
    {
     "data": {
      "text/html": [
       "<div>\n",
       "<style scoped>\n",
       "    .dataframe tbody tr th:only-of-type {\n",
       "        vertical-align: middle;\n",
       "    }\n",
       "\n",
       "    .dataframe tbody tr th {\n",
       "        vertical-align: top;\n",
       "    }\n",
       "\n",
       "    .dataframe thead th {\n",
       "        text-align: right;\n",
       "    }\n",
       "</style>\n",
       "<table border=\"1\" class=\"dataframe\">\n",
       "  <thead>\n",
       "    <tr style=\"text-align: right;\">\n",
       "      <th></th>\n",
       "      <th>Comment</th>\n",
       "      <th>negative</th>\n",
       "      <th>positive</th>\n",
       "      <th>neutral</th>\n",
       "      <th>compound</th>\n",
       "    </tr>\n",
       "  </thead>\n",
       "  <tbody>\n",
       "    <tr>\n",
       "      <th>27</th>\n",
       "      <td>Great second semester, Grant your work is cons...</td>\n",
       "      <td>0.060</td>\n",
       "      <td>0.359</td>\n",
       "      <td>0.581</td>\n",
       "      <td>0.9807</td>\n",
       "    </tr>\n",
       "    <tr>\n",
       "      <th>77</th>\n",
       "      <td>Excellent second semester thus far, Harry your...</td>\n",
       "      <td>0.018</td>\n",
       "      <td>0.274</td>\n",
       "      <td>0.708</td>\n",
       "      <td>0.9845</td>\n",
       "    </tr>\n",
       "    <tr>\n",
       "      <th>121</th>\n",
       "      <td>Great start to the year, Talia you really seem...</td>\n",
       "      <td>0.013</td>\n",
       "      <td>0.277</td>\n",
       "      <td>0.710</td>\n",
       "      <td>0.9887</td>\n",
       "    </tr>\n",
       "    <tr>\n",
       "      <th>159</th>\n",
       "      <td>Great job thus far, Grant you have deep unders...</td>\n",
       "      <td>0.049</td>\n",
       "      <td>0.268</td>\n",
       "      <td>0.684</td>\n",
       "      <td>0.9698</td>\n",
       "    </tr>\n",
       "    <tr>\n",
       "      <th>195</th>\n",
       "      <td>With consistently excellent test and quiz scor...</td>\n",
       "      <td>0.000</td>\n",
       "      <td>0.268</td>\n",
       "      <td>0.732</td>\n",
       "      <td>0.9914</td>\n",
       "    </tr>\n",
       "    <tr>\n",
       "      <th>199</th>\n",
       "      <td>With consistently excellent test and quiz scor...</td>\n",
       "      <td>0.013</td>\n",
       "      <td>0.282</td>\n",
       "      <td>0.706</td>\n",
       "      <td>0.9934</td>\n",
       "    </tr>\n",
       "    <tr>\n",
       "      <th>281</th>\n",
       "      <td>I know the spring exam did not go the way you ...</td>\n",
       "      <td>0.000</td>\n",
       "      <td>0.267</td>\n",
       "      <td>0.733</td>\n",
       "      <td>0.9954</td>\n",
       "    </tr>\n",
       "    <tr>\n",
       "      <th>353</th>\n",
       "      <td>Keeping in the family tradition, Antonie you h...</td>\n",
       "      <td>0.020</td>\n",
       "      <td>0.266</td>\n",
       "      <td>0.714</td>\n",
       "      <td>0.9814</td>\n",
       "    </tr>\n",
       "    <tr>\n",
       "      <th>361</th>\n",
       "      <td>With consistently excellent test and quiz scor...</td>\n",
       "      <td>0.000</td>\n",
       "      <td>0.269</td>\n",
       "      <td>0.731</td>\n",
       "      <td>0.9906</td>\n",
       "    </tr>\n",
       "    <tr>\n",
       "      <th>371</th>\n",
       "      <td>With consistently excellent test and quiz scor...</td>\n",
       "      <td>0.000</td>\n",
       "      <td>0.279</td>\n",
       "      <td>0.721</td>\n",
       "      <td>0.9923</td>\n",
       "    </tr>\n",
       "    <tr>\n",
       "      <th>381</th>\n",
       "      <td>With consistently excellent test and quiz scor...</td>\n",
       "      <td>0.000</td>\n",
       "      <td>0.280</td>\n",
       "      <td>0.720</td>\n",
       "      <td>0.9901</td>\n",
       "    </tr>\n",
       "    <tr>\n",
       "      <th>389</th>\n",
       "      <td>With consistently excellent test and quiz scor...</td>\n",
       "      <td>0.000</td>\n",
       "      <td>0.299</td>\n",
       "      <td>0.701</td>\n",
       "      <td>0.9929</td>\n",
       "    </tr>\n",
       "  </tbody>\n",
       "</table>\n",
       "</div>"
      ],
      "text/plain": [
       "                                               Comment  negative  positive  \\\n",
       "27   Great second semester, Grant your work is cons...     0.060     0.359   \n",
       "77   Excellent second semester thus far, Harry your...     0.018     0.274   \n",
       "121  Great start to the year, Talia you really seem...     0.013     0.277   \n",
       "159  Great job thus far, Grant you have deep unders...     0.049     0.268   \n",
       "195  With consistently excellent test and quiz scor...     0.000     0.268   \n",
       "199  With consistently excellent test and quiz scor...     0.013     0.282   \n",
       "281  I know the spring exam did not go the way you ...     0.000     0.267   \n",
       "353  Keeping in the family tradition, Antonie you h...     0.020     0.266   \n",
       "361  With consistently excellent test and quiz scor...     0.000     0.269   \n",
       "371  With consistently excellent test and quiz scor...     0.000     0.279   \n",
       "381  With consistently excellent test and quiz scor...     0.000     0.280   \n",
       "389  With consistently excellent test and quiz scor...     0.000     0.299   \n",
       "\n",
       "     neutral  compound  \n",
       "27     0.581    0.9807  \n",
       "77     0.708    0.9845  \n",
       "121    0.710    0.9887  \n",
       "159    0.684    0.9698  \n",
       "195    0.732    0.9914  \n",
       "199    0.706    0.9934  \n",
       "281    0.733    0.9954  \n",
       "353    0.714    0.9814  \n",
       "361    0.731    0.9906  \n",
       "371    0.721    0.9923  \n",
       "381    0.720    0.9901  \n",
       "389    0.701    0.9929  "
      ]
     },
     "execution_count": 24,
     "metadata": {},
     "output_type": "execute_result"
    }
   ],
   "source": [
    "highest_positive_2std = desc_df['positive'][7]-2*(desc_df['positive'][2])\n",
    "df[df['positive'] >= highest_positive_2std]"
   ]
  },
  {
   "cell_type": "markdown",
   "metadata": {},
   "source": [
    "If I open up to two standard deviations from the maximum postive score, a few more potential spurious results show up. So does a very familiar comment type. "
   ]
  },
  {
   "cell_type": "code",
   "execution_count": 27,
   "metadata": {},
   "outputs": [
    {
     "data": {
      "text/html": [
       "<div>\n",
       "<style scoped>\n",
       "    .dataframe tbody tr th:only-of-type {\n",
       "        vertical-align: middle;\n",
       "    }\n",
       "\n",
       "    .dataframe tbody tr th {\n",
       "        vertical-align: top;\n",
       "    }\n",
       "\n",
       "    .dataframe thead th {\n",
       "        text-align: right;\n",
       "    }\n",
       "</style>\n",
       "<table border=\"1\" class=\"dataframe\">\n",
       "  <thead>\n",
       "    <tr style=\"text-align: right;\">\n",
       "      <th></th>\n",
       "      <th>Comment</th>\n",
       "      <th>negative</th>\n",
       "      <th>positive</th>\n",
       "      <th>neutral</th>\n",
       "      <th>compound</th>\n",
       "    </tr>\n",
       "  </thead>\n",
       "  <tbody>\n",
       "    <tr>\n",
       "      <th>27</th>\n",
       "      <td>Great second semester, Grant your work is cons...</td>\n",
       "      <td>0.06</td>\n",
       "      <td>0.359</td>\n",
       "      <td>0.581</td>\n",
       "      <td>0.9807</td>\n",
       "    </tr>\n",
       "  </tbody>\n",
       "</table>\n",
       "</div>"
      ],
      "text/plain": [
       "                                              Comment  negative  positive  \\\n",
       "27  Great second semester, Grant your work is cons...      0.06     0.359   \n",
       "\n",
       "    neutral  compound  \n",
       "27    0.581    0.9807  "
      ]
     },
     "execution_count": 27,
     "metadata": {},
     "output_type": "execute_result"
    }
   ],
   "source": [
    "#one standard deviation from the 75% mark in negative comment and greater than the 75% in positive\n",
    "top_quarter_pos = desc_df['positive'][6] \n",
    "top_quarter_neg = desc_df['negative'][6]\n",
    "df[(df['negative'] >= top_quarter_neg) & (df['positive']>= one_std_top_quarter_pos)]"
   ]
  },
  {
   "cell_type": "markdown",
   "metadata": {},
   "source": [
    "For students with very high negative score and high positive scores there doesn't seem to be a reason from there actual performance to merit such a negative score. These comments have very similar comment types so there must be something about the comment type that makes VADER think the sentiment is highly negative."
   ]
  },
  {
   "cell_type": "code",
   "execution_count": 28,
   "metadata": {},
   "outputs": [
    {
     "data": {
      "text/html": [
       "<div>\n",
       "<style scoped>\n",
       "    .dataframe tbody tr th:only-of-type {\n",
       "        vertical-align: middle;\n",
       "    }\n",
       "\n",
       "    .dataframe tbody tr th {\n",
       "        vertical-align: top;\n",
       "    }\n",
       "\n",
       "    .dataframe thead th {\n",
       "        text-align: right;\n",
       "    }\n",
       "</style>\n",
       "<table border=\"1\" class=\"dataframe\">\n",
       "  <thead>\n",
       "    <tr style=\"text-align: right;\">\n",
       "      <th></th>\n",
       "      <th>Comment</th>\n",
       "      <th>negative</th>\n",
       "      <th>positive</th>\n",
       "      <th>neutral</th>\n",
       "      <th>compound</th>\n",
       "    </tr>\n",
       "  </thead>\n",
       "  <tbody>\n",
       "    <tr>\n",
       "      <th>57</th>\n",
       "      <td>Luiza, you continue to produce excellent, thor...</td>\n",
       "      <td>0.014</td>\n",
       "      <td>0.128</td>\n",
       "      <td>0.858</td>\n",
       "      <td>0.9022</td>\n",
       "    </tr>\n",
       "    <tr>\n",
       "      <th>107</th>\n",
       "      <td>Solid start to the year, Brady your participat...</td>\n",
       "      <td>0.017</td>\n",
       "      <td>0.102</td>\n",
       "      <td>0.881</td>\n",
       "      <td>0.9078</td>\n",
       "    </tr>\n",
       "    <tr>\n",
       "      <th>125</th>\n",
       "      <td>Solid start to the year, Luiza you seem to und...</td>\n",
       "      <td>0.020</td>\n",
       "      <td>0.151</td>\n",
       "      <td>0.829</td>\n",
       "      <td>0.9336</td>\n",
       "    </tr>\n",
       "    <tr>\n",
       "      <th>145</th>\n",
       "      <td>Consistency is the name of game in honors geom...</td>\n",
       "      <td>0.020</td>\n",
       "      <td>0.141</td>\n",
       "      <td>0.839</td>\n",
       "      <td>0.9126</td>\n",
       "    </tr>\n",
       "    <tr>\n",
       "      <th>251</th>\n",
       "      <td>Consistent daily preparation will be essentia...</td>\n",
       "      <td>0.013</td>\n",
       "      <td>0.116</td>\n",
       "      <td>0.871</td>\n",
       "      <td>0.9766</td>\n",
       "    </tr>\n",
       "    <tr>\n",
       "      <th>313</th>\n",
       "      <td>Solid start to the year, Sophie your participa...</td>\n",
       "      <td>0.014</td>\n",
       "      <td>0.149</td>\n",
       "      <td>0.836</td>\n",
       "      <td>0.9690</td>\n",
       "    </tr>\n",
       "    <tr>\n",
       "      <th>333</th>\n",
       "      <td>Solid start to the year, Max you seem to under...</td>\n",
       "      <td>0.012</td>\n",
       "      <td>0.148</td>\n",
       "      <td>0.840</td>\n",
       "      <td>0.9488</td>\n",
       "    </tr>\n",
       "    <tr>\n",
       "      <th>357</th>\n",
       "      <td>Solid start to the year, Tess you seem to unde...</td>\n",
       "      <td>0.015</td>\n",
       "      <td>0.148</td>\n",
       "      <td>0.837</td>\n",
       "      <td>0.9675</td>\n",
       "    </tr>\n",
       "    <tr>\n",
       "      <th>373</th>\n",
       "      <td>Self-advocacy, maximizing time in class, and c...</td>\n",
       "      <td>0.013</td>\n",
       "      <td>0.112</td>\n",
       "      <td>0.875</td>\n",
       "      <td>0.9520</td>\n",
       "    </tr>\n",
       "    <tr>\n",
       "      <th>385</th>\n",
       "      <td>Great start to the year, Jonathan you seem to ...</td>\n",
       "      <td>0.014</td>\n",
       "      <td>0.138</td>\n",
       "      <td>0.848</td>\n",
       "      <td>0.9565</td>\n",
       "    </tr>\n",
       "  </tbody>\n",
       "</table>\n",
       "</div>"
      ],
      "text/plain": [
       "                                               Comment  negative  positive  \\\n",
       "57   Luiza, you continue to produce excellent, thor...     0.014     0.128   \n",
       "107  Solid start to the year, Brady your participat...     0.017     0.102   \n",
       "125  Solid start to the year, Luiza you seem to und...     0.020     0.151   \n",
       "145  Consistency is the name of game in honors geom...     0.020     0.141   \n",
       "251   Consistent daily preparation will be essentia...     0.013     0.116   \n",
       "313  Solid start to the year, Sophie your participa...     0.014     0.149   \n",
       "333  Solid start to the year, Max you seem to under...     0.012     0.148   \n",
       "357  Solid start to the year, Tess you seem to unde...     0.015     0.148   \n",
       "373  Self-advocacy, maximizing time in class, and c...     0.013     0.112   \n",
       "385  Great start to the year, Jonathan you seem to ...     0.014     0.138   \n",
       "\n",
       "     neutral  compound  \n",
       "57     0.858    0.9022  \n",
       "107    0.881    0.9078  \n",
       "125    0.829    0.9336  \n",
       "145    0.839    0.9126  \n",
       "251    0.871    0.9766  \n",
       "313    0.836    0.9690  \n",
       "333    0.840    0.9488  \n",
       "357    0.837    0.9675  \n",
       "373    0.875    0.9520  \n",
       "385    0.848    0.9565  "
      ]
     },
     "execution_count": 28,
     "metadata": {},
     "output_type": "execute_result"
    }
   ],
   "source": [
    "bottom_quarter_pos = desc_df['positive'][4]\n",
    "bottom_quarter_neg = desc_df['negative'][4] \n",
    "df[(df['negative'] <= bottom_quarter_neg) & (df['positive'] <= bottom_quarter_pos)]"
   ]
  },
  {
   "cell_type": "markdown",
   "metadata": {},
   "source": [
    "The students above have bottom quarter negative scores and bottom quarter of positive scores. Mamy of these students are solid performers so it could that not enough good things are being said about them. It is also possible the comment analyzer isn't picking up on the correct words. One thing that could be helpful is relating the indicator grade range to sentiment to check for high performing students with low sentiment scores. \n",
    "\n",
    "The comment type could also be an issue. Might just be a really bland comment type. \n",
    "\n",
    "\n",
    "Let's look at the highest neutral comments next"
   ]
  },
  {
   "cell_type": "code",
   "execution_count": 29,
   "metadata": {},
   "outputs": [
    {
     "data": {
      "text/html": [
       "<div>\n",
       "<style scoped>\n",
       "    .dataframe tbody tr th:only-of-type {\n",
       "        vertical-align: middle;\n",
       "    }\n",
       "\n",
       "    .dataframe tbody tr th {\n",
       "        vertical-align: top;\n",
       "    }\n",
       "\n",
       "    .dataframe thead th {\n",
       "        text-align: right;\n",
       "    }\n",
       "</style>\n",
       "<table border=\"1\" class=\"dataframe\">\n",
       "  <thead>\n",
       "    <tr style=\"text-align: right;\">\n",
       "      <th></th>\n",
       "      <th>Comment</th>\n",
       "      <th>negative</th>\n",
       "      <th>positive</th>\n",
       "      <th>neutral</th>\n",
       "      <th>compound</th>\n",
       "    </tr>\n",
       "  </thead>\n",
       "  <tbody>\n",
       "    <tr>\n",
       "      <th>107</th>\n",
       "      <td>Solid start to the year, Brady your participat...</td>\n",
       "      <td>0.017</td>\n",
       "      <td>0.102</td>\n",
       "      <td>0.881</td>\n",
       "      <td>0.9078</td>\n",
       "    </tr>\n",
       "    <tr>\n",
       "      <th>251</th>\n",
       "      <td>Consistent daily preparation will be essentia...</td>\n",
       "      <td>0.013</td>\n",
       "      <td>0.116</td>\n",
       "      <td>0.871</td>\n",
       "      <td>0.9766</td>\n",
       "    </tr>\n",
       "    <tr>\n",
       "      <th>301</th>\n",
       "      <td>Consistent daily preparation will be essentia...</td>\n",
       "      <td>0.042</td>\n",
       "      <td>0.099</td>\n",
       "      <td>0.860</td>\n",
       "      <td>0.7748</td>\n",
       "    </tr>\n",
       "    <tr>\n",
       "      <th>359</th>\n",
       "      <td>We changed the course curriculum this year for...</td>\n",
       "      <td>0.045</td>\n",
       "      <td>0.071</td>\n",
       "      <td>0.884</td>\n",
       "      <td>0.6391</td>\n",
       "    </tr>\n",
       "    <tr>\n",
       "      <th>373</th>\n",
       "      <td>Self-advocacy, maximizing time in class, and c...</td>\n",
       "      <td>0.013</td>\n",
       "      <td>0.112</td>\n",
       "      <td>0.875</td>\n",
       "      <td>0.9520</td>\n",
       "    </tr>\n",
       "  </tbody>\n",
       "</table>\n",
       "</div>"
      ],
      "text/plain": [
       "                                               Comment  negative  positive  \\\n",
       "107  Solid start to the year, Brady your participat...     0.017     0.102   \n",
       "251   Consistent daily preparation will be essentia...     0.013     0.116   \n",
       "301   Consistent daily preparation will be essentia...     0.042     0.099   \n",
       "359  We changed the course curriculum this year for...     0.045     0.071   \n",
       "373  Self-advocacy, maximizing time in class, and c...     0.013     0.112   \n",
       "\n",
       "     neutral  compound  \n",
       "107    0.881    0.9078  \n",
       "251    0.871    0.9766  \n",
       "301    0.860    0.7748  \n",
       "359    0.884    0.6391  \n",
       "373    0.875    0.9520  "
      ]
     },
     "execution_count": 29,
     "metadata": {},
     "output_type": "execute_result"
    }
   ],
   "source": [
    "df[df['neutral'] >= desc_df['neutral'][6]+desc_df['neutral'][2]]"
   ]
  },
  {
   "cell_type": "markdown",
   "metadata": {},
   "source": [
    "Blah Blah Blah - these are probably the most boring or unhelpful comments written. Low positive and negative scores with very high neutral scores. Notice the start of many of these. "
   ]
  }
 ],
 "metadata": {
  "kernelspec": {
   "display_name": "Python 3",
   "language": "python",
   "name": "python3"
  },
  "language_info": {
   "codemirror_mode": {
    "name": "ipython",
    "version": 3
   },
   "file_extension": ".py",
   "mimetype": "text/x-python",
   "name": "python",
   "nbconvert_exporter": "python",
   "pygments_lexer": "ipython3",
   "version": "3.7.4"
  }
 },
 "nbformat": 4,
 "nbformat_minor": 2
}
