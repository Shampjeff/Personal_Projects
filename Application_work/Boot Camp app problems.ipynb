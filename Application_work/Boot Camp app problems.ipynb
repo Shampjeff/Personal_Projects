{
 "cells": [
  {
   "cell_type": "code",
   "execution_count": 3,
   "metadata": {},
   "outputs": [
    {
     "name": "stdout",
     "output_type": "stream",
     "text": [
      "number of terms 333  : nth term  999\n",
      "number of terms 199  : nth term  995\n",
      "number of terms  66  : nth term  990\n",
      "sum of all numbers below 1000 divisible by 3 or 5:  233168\n"
     ]
    }
   ],
   "source": [
    "# This question is an arithmetic sum question and has an easy analytical answer. \n",
    "# the last number that is divisible by 3 is 999 and the last number divisible by 5 995\n",
    "# So as not to double count, you'll want to subtract all the numbers that are divisible by both 3 and 5. \n",
    "t_n_3 = 999//3\n",
    "t_n_5 = 999//5\n",
    "t_n_15 = 999//15\n",
    "print('number of terms', t_n_3,' : nth term ', t_n_3*3)\n",
    "print('number of terms', t_n_5,' : nth term ', t_n_5*5)\n",
    "print('number of terms ', t_n_15,' : nth term ', t_n_15*15)\n",
    "\n",
    "# now compute the arithmetic sum given Gauss' equation (n/2)*(t_n +t_1) for both and add them together and subtract doubles. \n",
    "n_sum = ((t_n_3/2)*((t_n_3*3)+3)) +  ((t_n_5/2)*((t_n_5*5)+5)) - ((t_n_15/2)*((t_n_15*15)+15))\n",
    "print('sum of all numbers below 1000 divisible by 3 or 5: ',int(n_sum))"
   ]
  },
  {
   "cell_type": "code",
   "execution_count": 1,
   "metadata": {},
   "outputs": [],
   "source": [
    "import numpy as np\n",
    "import matplotlib.pyplot as plt\n",
    "%matplotlib inline"
   ]
  },
  {
   "cell_type": "code",
   "execution_count": null,
   "metadata": {},
   "outputs": [],
   "source": []
  },
  {
   "cell_type": "code",
   "execution_count": 3,
   "metadata": {},
   "outputs": [],
   "source": [
    "import numpy as np\n",
    "def sum_calc(list_of_multiples, end): # user defined function to compute\n",
    "    num_terms = [] #initialize lists\n",
    "    nth_sum = []\n",
    "    lcm = np.prod(list_of_multiples) #least common multiple to eliminate doubles (like 15 and 30)\n",
    "    list_of_multiples.append(lcm) # put the lcm at the end of the list of multiples\n",
    "    \n",
    "    for i in range(0,len(list_of_multiples)): #iterate\n",
    "        t_n_i = end//(list_of_multiples[i]) # number of terms in the sequence for each multiple\n",
    "        num_terms.append(t_n_i)\n",
    "        partial_sum = ((num_terms[i]/2)*((num_terms[i]*list_of_multiples[i])+list_of_multiples[i])) # compute the partial sum for each multiple\n",
    "        nth_sum.append(partial_sum)\n",
    "    nth_sum[-1] = -1*nth_sum[-1] # make the last one negative to subtract out doubles \n",
    "    return print(f'The sum of all the numbers between 0 and {end} that are divisible by {list_of_multiples[:-1]} is {int(sum(nth_sum))}')\n",
    "    #nycdsa"
   ]
  },
  {
   "cell_type": "code",
   "execution_count": 5,
   "metadata": {},
   "outputs": [
    {
     "name": "stdout",
     "output_type": "stream",
     "text": [
      "The sum of all the numbers between 0 and 999 that are divisible by [3, 5] is 233168\n"
     ]
    }
   ],
   "source": [
    "sum_calc([3,5],999)"
   ]
  },
  {
   "cell_type": "code",
   "execution_count": 8,
   "metadata": {},
   "outputs": [
    {
     "name": "stdout",
     "output_type": "stream",
     "text": [
      "Max palindrome 906609\n"
     ]
    }
   ],
   "source": [
    "# This problem does not have a simple analytical answer so iteration over a range of number is required. \n",
    "#def palindromic(x): # function that returns a boolean if a given number is a palindrome\n",
    " #   return str(x) == str(x)[::-1] \n",
    "\n",
    "product_list = []\n",
    "for first_num in range(100, 1000): # iterate through the range for the product of two 3-digit numbers\n",
    "    for second_num in range(100,1000):\n",
    "        prod = first_num * second_num\n",
    "        if str(prod) == str(prod)[::-1]: # if True, add it to the list of palindromes\n",
    "            product_list.append(prod)\n",
    "print('Max palindrome', max(product_list))\n",
    "#nycdsa"
   ]
  },
  {
   "cell_type": "code",
   "execution_count": 6,
   "metadata": {
    "scrolled": true
   },
   "outputs": [
    {
     "name": "stdout",
     "output_type": "stream",
     "text": [
      "50\n",
      "your number is high\n",
      "10\n",
      "your guess is low\n",
      "25\n",
      "your guess is low\n",
      "35\n",
      "your guess is low\n",
      "45\n",
      "your number is high\n",
      "40\n",
      "your number is high\n",
      "39\n",
      "your number is high\n",
      "38\n",
      "you guessed right!\n"
     ]
    }
   ],
   "source": [
    "import numpy as np\n",
    "secret_number = np.random.randint(0,101) #random number integer\n",
    "g = input() # defines a user input\n",
    "for i in range(0,10): # creates ten guess loop\n",
    "    guess = int(g) # makes the initial guess an integer for boolean comparison\n",
    "    if secret_number != guess:\n",
    "        if guess < secret_number:\n",
    "            print('your guess is low')\n",
    "            g = input() # reassigns a new guess if too low\n",
    "        elif guess > secret_number:\n",
    "            print('your number is high')\n",
    "            g = input() # reassigns guess if too high\n",
    "    else: print('you guessed right!') \n",
    "    if secret_number == guess: # breaks the loop after guessing correct before the tenth guess. \n",
    "        break\n",
    "  \n"
   ]
  },
  {
   "cell_type": "code",
   "execution_count": 2,
   "metadata": {},
   "outputs": [],
   "source": [
    "five_x_squared_minus_three_x_cubed_plus_x = [(5,2), (-3,3),(1,1)] # lists of tuples for examples\n",
    "threex_squared_plus_fourx_tothenegTwo_minus_fivex = [(3,2), (4,-1), (-5,1)]\n",
    "x_squared_plus_two_x_minusOne = [(1,2),(2,1), (-1,0)]\n",
    "four_x = [(4,1)]"
   ]
  },
  {
   "cell_type": "code",
   "execution_count": 3,
   "metadata": {},
   "outputs": [],
   "source": [
    "def df_dx(terms):\n",
    "    dxs = list(map(lambda term: (term[0]*term[1],term[1]-1), terms)) #power rule of derivatives\n",
    "    out = list(filter(lambda term: term[0] != 0, dxs)) # filters out any zeros (df/dx of constant = zero)\n",
    "    return out               "
   ]
  },
  {
   "cell_type": "code",
   "execution_count": 5,
   "metadata": {},
   "outputs": [
    {
     "data": {
      "text/plain": [
       "[(2, 1), (2, 0)]"
      ]
     },
     "execution_count": 5,
     "metadata": {},
     "output_type": "execute_result"
    }
   ],
   "source": [
    "df_dx(x_squared_plus_two_x_minusOne)"
   ]
  },
  {
   "cell_type": "code",
   "execution_count": 6,
   "metadata": {},
   "outputs": [],
   "source": [
    "def int_dx(terms): #This only does the polynomial power rule integration. Fix needed for x^(-1)dx = ln(x)\n",
    "    out = list(filter(lambda term: term[1] != -1, terms)) # filters out any x^(-1) terms. not integralable by power rule. \n",
    "    dxs = list(map(lambda term: (term[0]/(term[1]+1),term[1]+1), out)) # power rule transformation.\n",
    "    return dxs"
   ]
  },
  {
   "cell_type": "code",
   "execution_count": 12,
   "metadata": {},
   "outputs": [
    {
     "data": {
      "text/plain": [
       "[(0.3333333333333333, 3), (1.0, 2), (-1.0, 1)]"
      ]
     },
     "execution_count": 12,
     "metadata": {},
     "output_type": "execute_result"
    }
   ],
   "source": [
    "int_dx(x_squared_plus_two_x_minusOne)"
   ]
  },
  {
   "cell_type": "code",
   "execution_count": 8,
   "metadata": {},
   "outputs": [],
   "source": [
    "def eval_func(function, x_value):\n",
    "    out = []\n",
    "    for t in range(0,len(function)): # loop for polynomial terms. check length of terms and evals each term and adds to list\n",
    "        local = function[t][0]*x_value**function[t][1] # tuple unpacking for eval\n",
    "        out.append(local)\n",
    "    return sum(out) # sum of list of evaluated terms"
   ]
  },
  {
   "cell_type": "code",
   "execution_count": 9,
   "metadata": {},
   "outputs": [],
   "source": [
    "def int_eval_func(function, x_value):\n",
    "    out = []\n",
    "    for t in range(0,len(function)): # loop for polynomial terms. check length of terms and evals each term and adds to list\n",
    "        local = function[t][0]*x_value**function[t][1] # tuple unpacking for eval\n",
    "        out.append(local)\n",
    "       # if function[t][1] == -1:\n",
    "          #  natlog = np.log(x_value)\n",
    "           # out.append(natlog)\n",
    "    return sum(out) # sum of list of evaluated terms"
   ]
  },
  {
   "cell_type": "code",
   "execution_count": 10,
   "metadata": {},
   "outputs": [],
   "source": [
    "def function_evaluator(start, stop, steps, function):\n",
    "    domain = np.linspace(start, stop, steps) # evenly spaced domain of x values\n",
    "    orig = list(map(lambda i: eval_func(function, i), domain)) # evaluates the given function \n",
    "    df_dx_terms = df_dx(function) # computes list of tuples for df/dx and intdf_dx\n",
    "    int_dx_terms = int_dx(function)\n",
    "    df_dx_values = list(map(lambda i: eval_func(df_dx_terms, i), domain)) #maps df/dx to domain and evaluates\n",
    "    int_dx_values = list(map(lambda i: int_eval_func(int_dx_terms, i), domain)) # maps integral df to domain and evaluates\n",
    "    \n",
    "    fig, axes = plt.subplots(nrows=1, ncols=3,figsize=(15,8)) # plotting routine OO style in matplotlib\n",
    "\n",
    "    axes[0].plot(domain,orig,color=\"blue\", lw=3)\n",
    "    axes[0].set_xlabel('x')\n",
    "    axes[0].set_ylabel('original function')\n",
    "\n",
    "    axes[1].plot(domain,df_dx_values,color=\"red\", lw=3)\n",
    "    axes[1].set_xlabel('x')\n",
    "    axes[1].set_ylabel('derivative of original')\n",
    "\n",
    "    axes[2].plot(domain, int_dx_values,color = \"green\", lw=3)\n",
    "    axes[2].set_xlabel('x')\n",
    "    axes[2].set_ylabel('integral of original')\n",
    "    plt.tight_layout()"
   ]
  },
  {
   "cell_type": "code",
   "execution_count": 11,
   "metadata": {},
   "outputs": [
    {
     "data": {
      "image/png": "[encoded data removed]",
      "text/plain": [
       "<Figure size 1080x576 with 3 Axes>"
      ]
     },
     "metadata": {
      "needs_background": "light"
     },
     "output_type": "display_data"
    }
   ],
   "source": [
    "function_evaluator(-5,5,50,x_squared_plus_two_x_minusOne)"
   ]
  },
  {
   "cell_type": "code",
   "execution_count": 13,
   "metadata": {},
   "outputs": [
    {
     "data": {
      "image/png": "[encoded data removed]",
      "text/plain": [
       "<Figure size 1080x576 with 3 Axes>"
      ]
     },
     "metadata": {
      "needs_background": "light"
     },
     "output_type": "display_data"
    }
   ],
   "source": [
    "function_evaluator(-5,5,50,four_x)"
   ]
  },
  {
   "cell_type": "code",
   "execution_count": null,
   "metadata": {},
   "outputs": [],
   "source": []
  },
  {
   "cell_type": "code",
   "execution_count": 2,
   "metadata": {},
   "outputs": [],
   "source": [
    "def string_reverse(string):\n",
    "    out = str(string)[::-1]\n",
    "    return out"
   ]
  },
  {
   "cell_type": "code",
   "execution_count": 4,
   "metadata": {},
   "outputs": [
    {
     "data": {
      "text/plain": [
       "'54321'"
      ]
     },
     "execution_count": 4,
     "metadata": {},
     "output_type": "execute_result"
    }
   ],
   "source": [
    "string_reverse(12345)"
   ]
  },
  {
   "cell_type": "code",
   "execution_count": 40,
   "metadata": {},
   "outputs": [],
   "source": [
    "def even_between(lower, upper):\n",
    "    start = (lower//2 + lower%2)*2\n",
    "    end = (upper//2)*2\n",
    "    n_terms = int(((end-start)/2)+1)\n",
    "    terms = []\n",
    "    for i in range(1,n_terms+1):\n",
    "        t_n = start + 2*(i-1)\n",
    "        terms.append(t_n)\n",
    "    return sorted(terms)"
   ]
  },
  {
   "cell_type": "code",
   "execution_count": 42,
   "metadata": {},
   "outputs": [
    {
     "data": {
      "text/plain": [
       "[102, 104, 106, 108, 110, 112, 114]"
      ]
     },
     "execution_count": 42,
     "metadata": {},
     "output_type": "execute_result"
    }
   ],
   "source": [
    "even_between(101,115)"
   ]
  },
  {
   "cell_type": "code",
   "execution_count": 75,
   "metadata": {},
   "outputs": [],
   "source": [
    "def combine_and_sort(list1, list2):\n",
    "    if len(list2) >= len(list1):\n",
    "        for i in range(0,len(list2)):\n",
    "            list1.append(list2[i])\n",
    "        return sorted(list1)\n",
    "    else: \n",
    "        for i in range(0,len(list1)):\n",
    "            list2.append(list1[i])\n",
    "        return sorted(list2)"
   ]
  },
  {
   "cell_type": "code",
   "execution_count": 77,
   "metadata": {},
   "outputs": [
    {
     "data": {
      "text/plain": [
       "[1, 2, 3, 4, 5, 7]"
      ]
     },
     "execution_count": 77,
     "metadata": {},
     "output_type": "execute_result"
    }
   ],
   "source": [
    "combine_and_sort([1,2,3,4,5],[7])"
   ]
  },
  {
   "cell_type": "code",
   "execution_count": 78,
   "metadata": {},
   "outputs": [],
   "source": [
    "str1 = 'brad'\n",
    "str2 = 'drab'"
   ]
  },
  {
   "cell_type": "code",
   "execution_count": 80,
   "metadata": {},
   "outputs": [],
   "source": [
    "def check_anagram(str1, str2):\n",
    "    if sorted(str1) == sorted(str2):\n",
    "        return True\n",
    "    else: return False"
   ]
  },
  {
   "cell_type": "code",
   "execution_count": 82,
   "metadata": {},
   "outputs": [
    {
     "data": {
      "text/plain": [
       "False"
      ]
     },
     "execution_count": 82,
     "metadata": {},
     "output_type": "execute_result"
    }
   ],
   "source": [
    "check_anagram('silet', 'listen')"
   ]
  },
  {
   "cell_type": "code",
   "execution_count": 114,
   "metadata": {},
   "outputs": [],
   "source": [
    "def create_dictionary(lower, upper):\n",
    "    start = (lower//2 + lower%2)*2\n",
    "    end = (upper//2)*2\n",
    "    n_terms = int(((end-start)/2)+1)\n",
    "    terms = []\n",
    "    for i in range(1,n_terms+1):\n",
    "        t_n = start + 2*(i-1)\n",
    "        terms.append(t_n)\n",
    "    evens = sorted(terms)\n",
    "    \n",
    "    start = (lower//2)*2 + 1\n",
    "    end = (upper//2)*2 - (upper%2)\n",
    "    n_odd_terms = int(((end-start)/2)+1)\n",
    "    odd_terms = []\n",
    "    for i in range(1,n_odd_terms+1):\n",
    "        t_n_odd = start + 2*(i-1)\n",
    "        odd_terms.append(t_n_odd)\n",
    "    odds = sorted(odd_terms)\n",
    "    dict = {'even': evens, 'odd':odds}\n",
    "    return dict"
   ]
  },
  {
   "cell_type": "code",
   "execution_count": 115,
   "metadata": {},
   "outputs": [
    {
     "data": {
      "text/plain": [
       "{'even': [0, 2, 4, 6, 8, 10], 'odd': [1, 3, 5, 7, 9]}"
      ]
     },
     "execution_count": 115,
     "metadata": {},
     "output_type": "execute_result"
    }
   ],
   "source": [
    "create_dictionary(0,10)"
   ]
  },
  {
   "cell_type": "code",
   "execution_count": 1,
   "metadata": {},
   "outputs": [],
   "source": [
    "def to_roman(number):\n",
    "    ints = (1000, 900,  500, 400, 100,  90, 50,  40, 10,  9,   5,  4,   1)\n",
    "    nums = ('M',  'CM', 'D', 'CD','C', 'XC','L','XL','X','IX','V','IV','I')\n",
    "    result = \"\"\n",
    "    for i in range(len(ints)):\n",
    "        count = int(number / ints[i])\n",
    "        result += nums[i] * count\n",
    "        number -= ints[i] * count\n",
    "    return result"
   ]
  },
  {
   "cell_type": "code",
   "execution_count": 2,
   "metadata": {},
   "outputs": [
    {
     "data": {
      "text/plain": [
       "'MMCXXXI'"
      ]
     },
     "execution_count": 2,
     "metadata": {},
     "output_type": "execute_result"
    }
   ],
   "source": [
    "to_roman(2131)"
   ]
  },
  {
   "cell_type": "code",
   "execution_count": null,
   "metadata": {},
   "outputs": [],
   "source": []
  }
 ],
 "metadata": {
  "kernelspec": {
   "display_name": "Python 3",
   "language": "python",
   "name": "python3"
  },
  "language_info": {
   "codemirror_mode": {
    "name": "ipython",
    "version": 3
   },
   "file_extension": ".py",
   "mimetype": "text/x-python",
   "name": "python",
   "nbconvert_exporter": "python",
   "pygments_lexer": "ipython3",
   "version": "3.7.3"
  }
 },
 "nbformat": 4,
 "nbformat_minor": 2
}
