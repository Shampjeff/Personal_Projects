{
 "cells": [
  {
   "cell_type": "markdown",
   "metadata": {},
   "source": [
    "# ML Test Tool Example Usage"
   ]
  },
  {
   "cell_type": "markdown",
   "metadata": {},
   "source": [
    "This is a long form tutorial on how to use the functionality of `ml_test_tool_dev.py`"
   ]
  },
  {
   "cell_type": "code",
   "execution_count": 1,
   "metadata": {},
   "outputs": [],
   "source": [
    "import pandas as pd\n",
    "import numpy as np\n",
    "import seaborn as sns\n",
    "from sklearn.datasets import load_iris, load_breast_cancer\n",
    "from sklearn.linear_model import LogisticRegression\n",
    "from sklearn.svm import SVC\n",
    "import matplotlib.pyplot as plt\n",
    "%load_ext autoreload\n",
    "%autoreload 2"
   ]
  },
  {
   "cell_type": "code",
   "execution_count": 2,
   "metadata": {},
   "outputs": [],
   "source": [
    "data = load_iris()\n",
    "df = pd.DataFrame(data.data, columns=data.feature_names)"
   ]
  },
  {
   "cell_type": "markdown",
   "metadata": {},
   "source": [
    "We will load in the obvious dataset, iris. "
   ]
  },
  {
   "cell_type": "code",
   "execution_count": 3,
   "metadata": {},
   "outputs": [
    {
     "data": {
      "text/html": [
       "<div>\n",
       "<style scoped>\n",
       "    .dataframe tbody tr th:only-of-type {\n",
       "        vertical-align: middle;\n",
       "    }\n",
       "\n",
       "    .dataframe tbody tr th {\n",
       "        vertical-align: top;\n",
       "    }\n",
       "\n",
       "    .dataframe thead th {\n",
       "        text-align: right;\n",
       "    }\n",
       "</style>\n",
       "<table border=\"1\" class=\"dataframe\">\n",
       "  <thead>\n",
       "    <tr style=\"text-align: right;\">\n",
       "      <th></th>\n",
       "      <th>sepal length (cm)</th>\n",
       "      <th>sepal width (cm)</th>\n",
       "      <th>petal length (cm)</th>\n",
       "      <th>petal width (cm)</th>\n",
       "      <th>target</th>\n",
       "    </tr>\n",
       "  </thead>\n",
       "  <tbody>\n",
       "    <tr>\n",
       "      <th>0</th>\n",
       "      <td>5.1</td>\n",
       "      <td>3.5</td>\n",
       "      <td>1.4</td>\n",
       "      <td>0.2</td>\n",
       "      <td>0</td>\n",
       "    </tr>\n",
       "    <tr>\n",
       "      <th>1</th>\n",
       "      <td>4.9</td>\n",
       "      <td>3.0</td>\n",
       "      <td>1.4</td>\n",
       "      <td>0.2</td>\n",
       "      <td>0</td>\n",
       "    </tr>\n",
       "    <tr>\n",
       "      <th>2</th>\n",
       "      <td>4.7</td>\n",
       "      <td>3.2</td>\n",
       "      <td>1.3</td>\n",
       "      <td>0.2</td>\n",
       "      <td>0</td>\n",
       "    </tr>\n",
       "    <tr>\n",
       "      <th>3</th>\n",
       "      <td>4.6</td>\n",
       "      <td>3.1</td>\n",
       "      <td>1.5</td>\n",
       "      <td>0.2</td>\n",
       "      <td>0</td>\n",
       "    </tr>\n",
       "    <tr>\n",
       "      <th>4</th>\n",
       "      <td>5.0</td>\n",
       "      <td>3.6</td>\n",
       "      <td>1.4</td>\n",
       "      <td>0.2</td>\n",
       "      <td>0</td>\n",
       "    </tr>\n",
       "  </tbody>\n",
       "</table>\n",
       "</div>"
      ],
      "text/plain": [
       "   sepal length (cm)  sepal width (cm)  petal length (cm)  petal width (cm)  \\\n",
       "0                5.1               3.5                1.4               0.2   \n",
       "1                4.9               3.0                1.4               0.2   \n",
       "2                4.7               3.2                1.3               0.2   \n",
       "3                4.6               3.1                1.5               0.2   \n",
       "4                5.0               3.6                1.4               0.2   \n",
       "\n",
       "   target  \n",
       "0       0  \n",
       "1       0  \n",
       "2       0  \n",
       "3       0  \n",
       "4       0  "
      ]
     },
     "execution_count": 3,
     "metadata": {},
     "output_type": "execute_result"
    }
   ],
   "source": [
    "df['target']=data['target']\n",
    "df.head()"
   ]
  },
  {
   "cell_type": "markdown",
   "metadata": {},
   "source": [
    "`MLTestTool` takes three arguements; training set, target, and params. Params is a dictionary of instances to be used. those params could be model, imputer, or scaler. "
   ]
  },
  {
   "cell_type": "code",
   "execution_count": 4,
   "metadata": {},
   "outputs": [],
   "source": [
    "params = {'model_instance':LogisticRegression(multi_class=\"auto\",\n",
    "                                              solver='lbfgs', \n",
    "                                             max_iter=2000)}\n",
    "params_1 = {'model_instance':SVC(gamma=\"auto\", probability=True)}"
   ]
  },
  {
   "cell_type": "code",
   "execution_count": 5,
   "metadata": {},
   "outputs": [],
   "source": [
    "from ml_test_tools_dev import MLTestTool\n",
    "test_ml = MLTestTool(training_df=df.drop(\"target\", axis=1),\n",
    "                     target=df.target)"
   ]
  },
  {
   "cell_type": "markdown",
   "metadata": {},
   "source": [
    "We can run the method `test_model()` to run the CV routine and calculate metrics. "
   ]
  },
  {
   "cell_type": "code",
   "execution_count": 6,
   "metadata": {},
   "outputs": [
    {
     "data": {
      "text/plain": [
       "{0: {'model_id': 0,\n",
       "  'model': LogisticRegression(C=1.0, class_weight=None, dual=False, fit_intercept=True,\n",
       "                     intercept_scaling=1, l1_ratio=None, max_iter=2000,\n",
       "                     multi_class='auto', n_jobs=None, penalty='l2',\n",
       "                     random_state=None, solver='lbfgs', tol=0.0001, verbose=0,\n",
       "                     warm_start=False),\n",
       "  'f1_score': {'mean': 1.0, 'sd': 0.0},\n",
       "  'recall': {'mean': 1.0, 'sd': 0.0},\n",
       "  'precision': {'mean': 0.95, 'sd': 0.0667},\n",
       "  'specificity': {'mean': 0.9624, 'sd': 0.0473},\n",
       "  'balanced_accuracy': {'mean': 0.9812, 'sd': 0.0237},\n",
       "  'accuracy': {'mean': 0.9667, 'sd': 0.0298}}}"
      ]
     },
     "execution_count": 6,
     "metadata": {},
     "output_type": "execute_result"
    }
   ],
   "source": [
    "test_ml.test_model(params=params)"
   ]
  },
  {
   "cell_type": "markdown",
   "metadata": {},
   "source": [
    "If you run it again, the new model will be saved by the class. This example is trivial, but if you were running random search for best parameters this will be very helpful. "
   ]
  },
  {
   "cell_type": "code",
   "execution_count": 7,
   "metadata": {},
   "outputs": [
    {
     "data": {
      "text/plain": [
       "{0: {'model_id': 0,\n",
       "  'model': LogisticRegression(C=1.0, class_weight=None, dual=False, fit_intercept=True,\n",
       "                     intercept_scaling=1, l1_ratio=None, max_iter=2000,\n",
       "                     multi_class='auto', n_jobs=None, penalty='l2',\n",
       "                     random_state=None, solver='lbfgs', tol=0.0001, verbose=0,\n",
       "                     warm_start=False),\n",
       "  'f1_score': {'mean': 1.0, 'sd': 0.0},\n",
       "  'recall': {'mean': 1.0, 'sd': 0.0},\n",
       "  'precision': {'mean': 0.95, 'sd': 0.0667},\n",
       "  'specificity': {'mean': 0.9624, 'sd': 0.0473},\n",
       "  'balanced_accuracy': {'mean': 0.9812, 'sd': 0.0237},\n",
       "  'accuracy': {'mean': 0.9667, 'sd': 0.0298}},\n",
       " 1: {'model_id': 1,\n",
       "  'model': SVC(C=1.0, cache_size=200, class_weight=None, coef0=0.0,\n",
       "      decision_function_shape='ovr', degree=3, gamma='auto', kernel='rbf',\n",
       "      max_iter=-1, probability=True, random_state=None, shrinking=True, tol=0.001,\n",
       "      verbose=False),\n",
       "  'f1_score': {'mean': 1.0, 'sd': 0.0},\n",
       "  'recall': {'mean': 1.0, 'sd': 0.0},\n",
       "  'precision': {'mean': 0.9444, 'sd': 0.0703},\n",
       "  'specificity': {'mean': 0.9692, 'sd': 0.0377},\n",
       "  'balanced_accuracy': {'mean': 0.9846, 'sd': 0.0188},\n",
       "  'accuracy': {'mean': 0.9733, 'sd': 0.0249}}}"
      ]
     },
     "execution_count": 7,
     "metadata": {},
     "output_type": "execute_result"
    }
   ],
   "source": [
    "test_ml.test_model(params=params_1)"
   ]
  },
  {
   "cell_type": "code",
   "execution_count": 8,
   "metadata": {},
   "outputs": [
    {
     "data": {
      "text/plain": [
       "[{'model_id': 1,\n",
       "  'model': SVC(C=1.0, cache_size=200, class_weight=None, coef0=0.0,\n",
       "      decision_function_shape='ovr', degree=3, gamma='auto', kernel='rbf',\n",
       "      max_iter=-1, probability=True, random_state=None, shrinking=True, tol=0.001,\n",
       "      verbose=False),\n",
       "  'f1_score': {'mean': 1.0, 'sd': 0.0},\n",
       "  'recall': {'mean': 1.0, 'sd': 0.0},\n",
       "  'precision': {'mean': 0.9444, 'sd': 0.0703},\n",
       "  'specificity': {'mean': 0.9692, 'sd': 0.0377},\n",
       "  'balanced_accuracy': {'mean': 0.9846, 'sd': 0.0188},\n",
       "  'accuracy': {'mean': 0.9733, 'sd': 0.0249}},\n",
       " {'model_id': 0,\n",
       "  'model': LogisticRegression(C=1.0, class_weight=None, dual=False, fit_intercept=True,\n",
       "                     intercept_scaling=1, l1_ratio=None, max_iter=2000,\n",
       "                     multi_class='auto', n_jobs=None, penalty='l2',\n",
       "                     random_state=None, solver='lbfgs', tol=0.0001, verbose=0,\n",
       "                     warm_start=False),\n",
       "  'f1_score': {'mean': 1.0, 'sd': 0.0},\n",
       "  'recall': {'mean': 1.0, 'sd': 0.0},\n",
       "  'precision': {'mean': 0.95, 'sd': 0.0667},\n",
       "  'specificity': {'mean': 0.9624, 'sd': 0.0473},\n",
       "  'balanced_accuracy': {'mean': 0.9812, 'sd': 0.0237},\n",
       "  'accuracy': {'mean': 0.9667, 'sd': 0.0298}}]"
      ]
     },
     "execution_count": 8,
     "metadata": {},
     "output_type": "execute_result"
    }
   ],
   "source": [
    "test_ml.rank_top_performers(metric='accuracy')"
   ]
  },
  {
   "cell_type": "markdown",
   "metadata": {},
   "source": [
    "This provides a nice way to test several models and centralize the results. It is tremendously helpful when searching for hyperparameters via Grid or Random search. "
   ]
  },
  {
   "cell_type": "code",
   "execution_count": 9,
   "metadata": {},
   "outputs": [],
   "source": [
    "import random\n",
    "import xgboost as xgb\n",
    "N_TRIALS = 3\n",
    "for i in range(N_TRIALS):\n",
    "    learning_rate_factor = random.randint(1,25)\n",
    "    xgb_rs = xgb.XGBClassifier(\n",
    "        learning_rate=0.25 / learning_rate_factor,\n",
    "        n_estimators=random.randint(20, 400),\n",
    "        max_depth=random.randint(2, 10),\n",
    "        min_child_weight=random.randint(1, 10),\n",
    "        gamma=random.randint(0, 50)/5,\n",
    "        subsample=1-(random.randint(1, 60)/100),\n",
    "        colsample_bytree=1-(random.randint(1, 60)/100),\n",
    "        random_state=9450,\n",
    "        objective='multi:softprob'\n",
    "        \n",
    "    )\n",
    "    test_ml.test_model({'model_instance':xgb_rs})"
   ]
  },
  {
   "cell_type": "code",
   "execution_count": 10,
   "metadata": {},
   "outputs": [
    {
     "data": {
      "text/plain": [
       "[{'model_id': 1,\n",
       "  'model': SVC(C=1.0, cache_size=200, class_weight=None, coef0=0.0,\n",
       "      decision_function_shape='ovr', degree=3, gamma='auto', kernel='rbf',\n",
       "      max_iter=-1, probability=True, random_state=None, shrinking=True, tol=0.001,\n",
       "      verbose=False),\n",
       "  'f1_score': {'mean': 1.0, 'sd': 0.0},\n",
       "  'recall': {'mean': 1.0, 'sd': 0.0},\n",
       "  'precision': {'mean': 0.9444, 'sd': 0.0703},\n",
       "  'specificity': {'mean': 0.9692, 'sd': 0.0377},\n",
       "  'balanced_accuracy': {'mean': 0.9846, 'sd': 0.0188},\n",
       "  'accuracy': {'mean': 0.9733, 'sd': 0.0249}},\n",
       " {'model_id': 0,\n",
       "  'model': LogisticRegression(C=1.0, class_weight=None, dual=False, fit_intercept=True,\n",
       "                     intercept_scaling=1, l1_ratio=None, max_iter=2000,\n",
       "                     multi_class='auto', n_jobs=None, penalty='l2',\n",
       "                     random_state=None, solver='lbfgs', tol=0.0001, verbose=0,\n",
       "                     warm_start=False),\n",
       "  'f1_score': {'mean': 1.0, 'sd': 0.0},\n",
       "  'recall': {'mean': 1.0, 'sd': 0.0},\n",
       "  'precision': {'mean': 0.95, 'sd': 0.0667},\n",
       "  'specificity': {'mean': 0.9624, 'sd': 0.0473},\n",
       "  'balanced_accuracy': {'mean': 0.9812, 'sd': 0.0237},\n",
       "  'accuracy': {'mean': 0.9667, 'sd': 0.0298}},\n",
       " {'model_id': 5,\n",
       "  'model': XGBClassifier(base_score=0.5, booster='gbtree', colsample_bylevel=1,\n",
       "                colsample_bytree=0.71, gamma=1.8,\n",
       "                learning_rate=0.08333333333333333, max_delta_step=0, max_depth=8,\n",
       "                min_child_weight=3, missing=None, n_estimators=210, n_jobs=1,\n",
       "                nthread=None, objective='multi:softprob', random_state=9450,\n",
       "                reg_alpha=0, reg_lambda=1, scale_pos_weight=1, seed=None,\n",
       "                silent=True, subsample=0.62),\n",
       "  'f1_score': {'mean': 1.0, 'sd': 0.0},\n",
       "  'recall': {'mean': 1.0, 'sd': 0.0},\n",
       "  'precision': {'mean': 0.9262, 'sd': 0.1108},\n",
       "  'specificity': {'mean': 0.9492, 'sd': 0.063},\n",
       "  'balanced_accuracy': {'mean': 0.9746, 'sd': 0.0315},\n",
       "  'accuracy': {'mean': 0.96, 'sd': 0.0389}},\n",
       " {'model_id': 4,\n",
       "  'model': XGBClassifier(base_score=0.5, booster='gbtree', colsample_bylevel=1,\n",
       "                colsample_bytree=0.78, gamma=2.2, learning_rate=0.01,\n",
       "                max_delta_step=0, max_depth=8, min_child_weight=3, missing=None,\n",
       "                n_estimators=223, n_jobs=1, nthread=None,\n",
       "                objective='multi:softprob', random_state=9450, reg_alpha=0,\n",
       "                reg_lambda=1, scale_pos_weight=1, seed=None, silent=True,\n",
       "                subsample=0.5700000000000001),\n",
       "  'f1_score': {'mean': 1.0, 'sd': 0.0},\n",
       "  'recall': {'mean': 1.0, 'sd': 0.0},\n",
       "  'precision': {'mean': 0.908, 'sd': 0.1044},\n",
       "  'specificity': {'mean': 0.9292, 'sd': 0.0595},\n",
       "  'balanced_accuracy': {'mean': 0.9646, 'sd': 0.0297},\n",
       "  'accuracy': {'mean': 0.9533, 'sd': 0.04}},\n",
       " {'model_id': 11,\n",
       "  'model': XGBClassifier(base_score=0.5, booster='gbtree', colsample_bylevel=1,\n",
       "                colsample_bytree=0.6, gamma=2.6,\n",
       "                learning_rate=0.014705882352941176, max_delta_step=0, max_depth=7,\n",
       "                min_child_weight=2, missing=None, n_estimators=234, n_jobs=1,\n",
       "                nthread=None, objective='multi:softprob', random_state=9450,\n",
       "                reg_alpha=0, reg_lambda=1, scale_pos_weight=1, seed=None,\n",
       "                silent=True, subsample=0.84),\n",
       "  'f1_score': {'mean': 1.0, 'sd': 0.0},\n",
       "  'recall': {'mean': 1.0, 'sd': 0.0},\n",
       "  'precision': {'mean': 0.908, 'sd': 0.1044},\n",
       "  'specificity': {'mean': 0.9292, 'sd': 0.0595},\n",
       "  'balanced_accuracy': {'mean': 0.9646, 'sd': 0.0297},\n",
       "  'accuracy': {'mean': 0.9533, 'sd': 0.04}},\n",
       " {'model_id': 3,\n",
       "  'model': XGBClassifier(base_score=0.5, booster='gbtree', colsample_bylevel=1,\n",
       "                colsample_bytree=0.6699999999999999, gamma=3.2,\n",
       "                learning_rate=0.020833333333333332, max_delta_step=0,\n",
       "                max_depth=10, min_child_weight=1, missing=None, n_estimators=307,\n",
       "                n_jobs=1, nthread=None, objective='multi:softprob',\n",
       "                random_state=9450, reg_alpha=0, reg_lambda=1, scale_pos_weight=1,\n",
       "                seed=None, silent=True, subsample=0.5),\n",
       "  'f1_score': {'mean': 1.0, 'sd': 0.0},\n",
       "  'recall': {'mean': 1.0, 'sd': 0.0},\n",
       "  'precision': {'mean': 0.9065, 'sd': 0.1043},\n",
       "  'specificity': {'mean': 0.9292, 'sd': 0.0595},\n",
       "  'balanced_accuracy': {'mean': 0.9646, 'sd': 0.0297},\n",
       "  'accuracy': {'mean': 0.9467, 'sd': 0.0452}},\n",
       " {'model_id': 6,\n",
       "  'model': XGBClassifier(base_score=0.5, booster='gbtree', colsample_bylevel=1,\n",
       "                colsample_bytree=0.64, gamma=4.8,\n",
       "                learning_rate=0.013157894736842105, max_delta_step=0, max_depth=6,\n",
       "                min_child_weight=6, missing=None, n_estimators=128, n_jobs=1,\n",
       "                nthread=None, objective='multi:softprob', random_state=9450,\n",
       "                reg_alpha=0, reg_lambda=1, scale_pos_weight=1, seed=None,\n",
       "                silent=True, subsample=0.8200000000000001),\n",
       "  'f1_score': {'mean': 1.0, 'sd': 0.0},\n",
       "  'recall': {'mean': 1.0, 'sd': 0.0},\n",
       "  'precision': {'mean': 0.9065, 'sd': 0.1043},\n",
       "  'specificity': {'mean': 0.9292, 'sd': 0.0595},\n",
       "  'balanced_accuracy': {'mean': 0.9646, 'sd': 0.0297},\n",
       "  'accuracy': {'mean': 0.9467, 'sd': 0.0452}},\n",
       " {'model_id': 7,\n",
       "  'model': XGBClassifier(base_score=0.5, booster='gbtree', colsample_bylevel=1,\n",
       "                colsample_bytree=0.62, gamma=4.2,\n",
       "                learning_rate=0.041666666666666664, max_delta_step=0, max_depth=6,\n",
       "                min_child_weight=4, missing=None, n_estimators=53, n_jobs=1,\n",
       "                nthread=None, objective='multi:softprob', random_state=9450,\n",
       "                reg_alpha=0, reg_lambda=1, scale_pos_weight=1, seed=None,\n",
       "                silent=True, subsample=0.8200000000000001),\n",
       "  'f1_score': {'mean': 1.0, 'sd': 0.0},\n",
       "  'recall': {'mean': 1.0, 'sd': 0.0},\n",
       "  'precision': {'mean': 0.8858, 'sd': 0.0938},\n",
       "  'specificity': {'mean': 0.9138, 'sd': 0.048},\n",
       "  'balanced_accuracy': {'mean': 0.9569, 'sd': 0.024},\n",
       "  'accuracy': {'mean': 0.9467, 'sd': 0.034}},\n",
       " {'model_id': 8,\n",
       "  'model': XGBClassifier(base_score=0.5, booster='gbtree', colsample_bylevel=1,\n",
       "                colsample_bytree=0.79, gamma=5.4,\n",
       "                learning_rate=0.013157894736842105, max_delta_step=0, max_depth=9,\n",
       "                min_child_weight=4, missing=None, n_estimators=198, n_jobs=1,\n",
       "                nthread=None, objective='multi:softprob', random_state=9450,\n",
       "                reg_alpha=0, reg_lambda=1, scale_pos_weight=1, seed=None,\n",
       "                silent=True, subsample=0.91),\n",
       "  'f1_score': {'mean': 1.0, 'sd': 0.0},\n",
       "  'recall': {'mean': 1.0, 'sd': 0.0},\n",
       "  'precision': {'mean': 0.9065, 'sd': 0.1043},\n",
       "  'specificity': {'mean': 0.9292, 'sd': 0.0595},\n",
       "  'balanced_accuracy': {'mean': 0.9646, 'sd': 0.0297},\n",
       "  'accuracy': {'mean': 0.9467, 'sd': 0.0452}},\n",
       " {'model_id': 9,\n",
       "  'model': XGBClassifier(base_score=0.5, booster='gbtree', colsample_bylevel=1,\n",
       "                colsample_bytree=0.71, gamma=1.8,\n",
       "                learning_rate=0.017857142857142856, max_delta_step=0,\n",
       "                max_depth=10, min_child_weight=9, missing=None, n_estimators=138,\n",
       "                n_jobs=1, nthread=None, objective='multi:softprob',\n",
       "                random_state=9450, reg_alpha=0, reg_lambda=1, scale_pos_weight=1,\n",
       "                seed=None, silent=True, subsample=0.49),\n",
       "  'f1_score': {'mean': 1.0, 'sd': 0.0},\n",
       "  'recall': {'mean': 1.0, 'sd': 0.0},\n",
       "  'precision': {'mean': 0.9247, 'sd': 0.1109},\n",
       "  'specificity': {'mean': 0.9492, 'sd': 0.063},\n",
       "  'balanced_accuracy': {'mean': 0.9746, 'sd': 0.0315},\n",
       "  'accuracy': {'mean': 0.9467, 'sd': 0.0452}},\n",
       " {'model_id': 10,\n",
       "  'model': XGBClassifier(base_score=0.5, booster='gbtree', colsample_bylevel=1,\n",
       "                colsample_bytree=0.99, gamma=5.0, learning_rate=0.015625,\n",
       "                max_delta_step=0, max_depth=8, min_child_weight=8, missing=None,\n",
       "                n_estimators=147, n_jobs=1, nthread=None,\n",
       "                objective='multi:softprob', random_state=9450, reg_alpha=0,\n",
       "                reg_lambda=1, scale_pos_weight=1, seed=None, silent=True,\n",
       "                subsample=0.95),\n",
       "  'f1_score': {'mean': 1.0, 'sd': 0.0},\n",
       "  'recall': {'mean': 1.0, 'sd': 0.0},\n",
       "  'precision': {'mean': 0.9065, 'sd': 0.1043},\n",
       "  'specificity': {'mean': 0.9292, 'sd': 0.0595},\n",
       "  'balanced_accuracy': {'mean': 0.9646, 'sd': 0.0297},\n",
       "  'accuracy': {'mean': 0.9467, 'sd': 0.0452}},\n",
       " {'model_id': 2,\n",
       "  'model': XGBClassifier(base_score=0.5, booster='gbtree', colsample_bylevel=1,\n",
       "                colsample_bytree=0.65, gamma=1.0, learning_rate=0.03125,\n",
       "                max_delta_step=0, max_depth=2, min_child_weight=10, missing=None,\n",
       "                n_estimators=284, n_jobs=1, nthread=None,\n",
       "                objective='multi:softprob', random_state=9450, reg_alpha=0,\n",
       "                reg_lambda=1, scale_pos_weight=1, seed=None, silent=True,\n",
       "                subsample=0.5),\n",
       "  'f1_score': {'mean': 1.0, 'sd': 0.0},\n",
       "  'recall': {'mean': 1.0, 'sd': 0.0},\n",
       "  'precision': {'mean': 0.9247, 'sd': 0.1109},\n",
       "  'specificity': {'mean': 0.9492, 'sd': 0.063},\n",
       "  'balanced_accuracy': {'mean': 0.9746, 'sd': 0.0315},\n",
       "  'accuracy': {'mean': 0.9333, 'sd': 0.0365}}]"
      ]
     },
     "execution_count": 10,
     "metadata": {},
     "output_type": "execute_result"
    }
   ],
   "source": [
    "test_ml.rank_top_performers(metric='accuracy')"
   ]
  },
  {
   "cell_type": "markdown",
   "metadata": {},
   "source": [
    "We can also plot the feature importances for models that retain feature weights. This is generally the case for tree boosted models such as GMB and XGB. "
   ]
  },
  {
   "cell_type": "code",
   "execution_count": 11,
   "metadata": {},
   "outputs": [],
   "source": [
    "xgb_best = test_ml.rank_top_performers(metric='accuracy')[2]['model']"
   ]
  },
  {
   "cell_type": "code",
   "execution_count": 12,
   "metadata": {},
   "outputs": [
    {
     "data": {
      "image/png": "[encoded data removed]",
      "text/plain": [
       "<Figure size 864x576 with 1 Axes>"
      ]
     },
     "metadata": {
      "needs_background": "light"
     },
     "output_type": "display_data"
    }
   ],
   "source": [
    "test_ml.plot_features_importance(xgb_best)"
   ]
  },
  {
   "cell_type": "markdown",
   "metadata": {},
   "source": [
    "### ROC AUC Support"
   ]
  },
  {
   "cell_type": "markdown",
   "metadata": {},
   "source": [
    "ROC AUC scores can be supported for binary classification. Use the argument `include_auc=True`"
   ]
  },
  {
   "cell_type": "code",
   "execution_count": 13,
   "metadata": {},
   "outputs": [],
   "source": [
    "data = load_breast_cancer()\n",
    "df = pd.DataFrame(data.data, columns=data.feature_names)\n",
    "df['target']=data['target']"
   ]
  },
  {
   "cell_type": "code",
   "execution_count": 14,
   "metadata": {},
   "outputs": [],
   "source": [
    "test_ml = MLTestTool(training_df=df.drop(\"target\", axis=1),\n",
    "                     target=df.target, \n",
    "                    include_auc=True)"
   ]
  },
  {
   "cell_type": "code",
   "execution_count": 15,
   "metadata": {},
   "outputs": [
    {
     "data": {
      "text/plain": [
       "{0: {'model_id': 0,\n",
       "  'model': SVC(C=1.0, cache_size=200, class_weight=None, coef0=0.0,\n",
       "      decision_function_shape='ovr', degree=3, gamma='auto', kernel='rbf',\n",
       "      max_iter=-1, probability=True, random_state=None, shrinking=True, tol=0.001,\n",
       "      verbose=False),\n",
       "  'f1_score': {'mean': 0.8351, 'sd': 0.0},\n",
       "  'recall': {'mean': 1.0, 'sd': 0.0},\n",
       "  'precision': {'mean': 0.6276, 'sd': 0.0565},\n",
       "  'specificity': {'mean': 0.0, 'sd': 0.0},\n",
       "  'balanced_accuracy': {'mean': 0.5, 'sd': 0.0},\n",
       "  'accuracy': {'mean': 0.6276, 'sd': 0.0565},\n",
       "  'auc': {'mean': 0.9305, 'sd': 0.0131}}}"
      ]
     },
     "execution_count": 15,
     "metadata": {},
     "output_type": "execute_result"
    }
   ],
   "source": [
    "test_ml.test_model(params=params_1)"
   ]
  },
  {
   "cell_type": "code",
   "execution_count": 16,
   "metadata": {},
   "outputs": [
    {
     "name": "stderr",
     "output_type": "stream",
     "text": [
      "/Users/jeffshamp/anaconda3/lib/python3.7/site-packages/sklearn/linear_model/logistic.py:947: ConvergenceWarning: lbfgs failed to converge. Increase the number of iterations.\n",
      "  \"of iterations.\", ConvergenceWarning)\n",
      "/Users/jeffshamp/anaconda3/lib/python3.7/site-packages/sklearn/linear_model/logistic.py:947: ConvergenceWarning: lbfgs failed to converge. Increase the number of iterations.\n",
      "  \"of iterations.\", ConvergenceWarning)\n",
      "/Users/jeffshamp/anaconda3/lib/python3.7/site-packages/sklearn/linear_model/logistic.py:947: ConvergenceWarning: lbfgs failed to converge. Increase the number of iterations.\n",
      "  \"of iterations.\", ConvergenceWarning)\n",
      "/Users/jeffshamp/anaconda3/lib/python3.7/site-packages/sklearn/linear_model/logistic.py:947: ConvergenceWarning: lbfgs failed to converge. Increase the number of iterations.\n",
      "  \"of iterations.\", ConvergenceWarning)\n"
     ]
    },
    {
     "data": {
      "text/plain": [
       "{0: {'model_id': 0,\n",
       "  'model': SVC(C=1.0, cache_size=200, class_weight=None, coef0=0.0,\n",
       "      decision_function_shape='ovr', degree=3, gamma='auto', kernel='rbf',\n",
       "      max_iter=-1, probability=True, random_state=None, shrinking=True, tol=0.001,\n",
       "      verbose=False),\n",
       "  'f1_score': {'mean': 0.8351, 'sd': 0.0},\n",
       "  'recall': {'mean': 1.0, 'sd': 0.0},\n",
       "  'precision': {'mean': 0.6276, 'sd': 0.0565},\n",
       "  'specificity': {'mean': 0.0, 'sd': 0.0},\n",
       "  'balanced_accuracy': {'mean': 0.5, 'sd': 0.0},\n",
       "  'accuracy': {'mean': 0.6276, 'sd': 0.0565},\n",
       "  'auc': {'mean': 0.9305, 'sd': 0.0131}},\n",
       " 1: {'model_id': 1,\n",
       "  'model': LogisticRegression(C=1.0, class_weight=None, dual=False, fit_intercept=True,\n",
       "                     intercept_scaling=1, l1_ratio=None, max_iter=2000,\n",
       "                     multi_class='auto', n_jobs=None, penalty='l2',\n",
       "                     random_state=None, solver='lbfgs', tol=0.0001, verbose=0,\n",
       "                     warm_start=False),\n",
       "  'f1_score': {'mean': 0.9686, 'sd': 0.0},\n",
       "  'recall': {'mean': 0.9719, 'sd': 0.0193},\n",
       "  'precision': {'mean': 0.9521, 'sd': 0.0269},\n",
       "  'specificity': {'mean': 0.9232, 'sd': 0.0329},\n",
       "  'balanced_accuracy': {'mean': 0.9476, 'sd': 0.0162},\n",
       "  'accuracy': {'mean': 0.9526, 'sd': 0.0163},\n",
       "  'auc': {'mean': 0.9921, 'sd': 0.0043}}}"
      ]
     },
     "execution_count": 16,
     "metadata": {},
     "output_type": "execute_result"
    }
   ],
   "source": [
    "test_ml.test_model(params)"
   ]
  },
  {
   "cell_type": "code",
   "execution_count": 17,
   "metadata": {},
   "outputs": [
    {
     "data": {
      "text/plain": [
       "[{'model_id': 1,\n",
       "  'model': LogisticRegression(C=1.0, class_weight=None, dual=False, fit_intercept=True,\n",
       "                     intercept_scaling=1, l1_ratio=None, max_iter=2000,\n",
       "                     multi_class='auto', n_jobs=None, penalty='l2',\n",
       "                     random_state=None, solver='lbfgs', tol=0.0001, verbose=0,\n",
       "                     warm_start=False),\n",
       "  'f1_score': {'mean': 0.9686, 'sd': 0.0},\n",
       "  'recall': {'mean': 0.9719, 'sd': 0.0193},\n",
       "  'precision': {'mean': 0.9521, 'sd': 0.0269},\n",
       "  'specificity': {'mean': 0.9232, 'sd': 0.0329},\n",
       "  'balanced_accuracy': {'mean': 0.9476, 'sd': 0.0162},\n",
       "  'accuracy': {'mean': 0.9526, 'sd': 0.0163},\n",
       "  'auc': {'mean': 0.9921, 'sd': 0.0043}},\n",
       " {'model_id': 0,\n",
       "  'model': SVC(C=1.0, cache_size=200, class_weight=None, coef0=0.0,\n",
       "      decision_function_shape='ovr', degree=3, gamma='auto', kernel='rbf',\n",
       "      max_iter=-1, probability=True, random_state=None, shrinking=True, tol=0.001,\n",
       "      verbose=False),\n",
       "  'f1_score': {'mean': 0.8351, 'sd': 0.0},\n",
       "  'recall': {'mean': 1.0, 'sd': 0.0},\n",
       "  'precision': {'mean': 0.6276, 'sd': 0.0565},\n",
       "  'specificity': {'mean': 0.0, 'sd': 0.0},\n",
       "  'balanced_accuracy': {'mean': 0.5, 'sd': 0.0},\n",
       "  'accuracy': {'mean': 0.6276, 'sd': 0.0565},\n",
       "  'auc': {'mean': 0.9305, 'sd': 0.0131}}]"
      ]
     },
     "execution_count": 17,
     "metadata": {},
     "output_type": "execute_result"
    }
   ],
   "source": [
    "test_ml.rank_top_performers(metric='auc')"
   ]
  },
  {
   "cell_type": "code",
   "execution_count": null,
   "metadata": {},
   "outputs": [],
   "source": []
  }
 ],
 "metadata": {
  "kernelspec": {
   "display_name": "Python 3",
   "language": "python",
   "name": "python3"
  },
  "language_info": {
   "codemirror_mode": {
    "name": "ipython",
    "version": 3
   },
   "file_extension": ".py",
   "mimetype": "text/x-python",
   "name": "python",
   "nbconvert_exporter": "python",
   "pygments_lexer": "ipython3",
   "version": "3.7.3"
  }
 },
 "nbformat": 4,
 "nbformat_minor": 2
}
