{
 "cells": [
  {
   "cell_type": "markdown",
   "metadata": {
    "toc": true
   },
   "source": [
    "<h1>Table of Contents<span class=\"tocSkip\"></span></h1>\n",
    "<div class=\"toc\"><ul class=\"toc-item\"><li><span><a href=\"#Project-Overview\" data-toc-modified-id=\"Project-Overview-1\"><span class=\"toc-item-num\">1&nbsp;&nbsp;</span>Project Overview</a></span><ul class=\"toc-item\"><li><span><a href=\"#Data-and-Input\" data-toc-modified-id=\"Data-and-Input-1.1\"><span class=\"toc-item-num\">1.1&nbsp;&nbsp;</span>Data and Input</a></span></li><li><span><a href=\"#Problem-Statement\" data-toc-modified-id=\"Problem-Statement-1.2\"><span class=\"toc-item-num\">1.2&nbsp;&nbsp;</span>Problem Statement</a></span></li><li><span><a href=\"#Expected-Result\" data-toc-modified-id=\"Expected-Result-1.3\"><span class=\"toc-item-num\">1.3&nbsp;&nbsp;</span>Expected Result</a></span></li></ul></li><li><span><a href=\"#Metrics\" data-toc-modified-id=\"Metrics-2\"><span class=\"toc-item-num\">2&nbsp;&nbsp;</span>Metrics</a></span></li><li><span><a href=\"#Evaluation\" data-toc-modified-id=\"Evaluation-3\"><span class=\"toc-item-num\">3&nbsp;&nbsp;</span>Evaluation</a></span></li><li><span><a href=\"#Conclusions\" data-toc-modified-id=\"Conclusions-4\"><span class=\"toc-item-num\">4&nbsp;&nbsp;</span>Conclusions</a></span></li><li><span><a href=\"#Citation\" data-toc-modified-id=\"Citation-5\"><span class=\"toc-item-num\">5&nbsp;&nbsp;</span>Citation</a></span></li></ul></div>"
   ]
  },
  {
   "cell_type": "markdown",
   "metadata": {},
   "source": [
    "## Project Overview"
   ]
  },
  {
   "cell_type": "markdown",
   "metadata": {},
   "source": [
    "This project revolves around the Starbucks dataset provided through Udacity. I chose this problem because I have some experience in predicting customer outcomes from self-reported data as it relates to product use and engagement. I was also interested in the extent that demographics will actually have in offer completion. Does income or age matter at all in terms of who completes offers or who simply walks in a buys something. <br>\n",
    "\n",
    "From the Udacity project outline:\n",
    "\n",
    "\n",
    "_Your task is to combine transaction, demographic and offer data to determine which demographic groups respond best to which offer type._ <br>\n",
    "\n",
    "\n",
    "- As such this project will try to predict each of the four event types: transact, complete offer, view offer, and receive offer. With a model that can predict transaction, completion, view, and receive then we can see what types of features have predictive power for a given outcome. \n",
    "\n",
    "- It machine learning terms, this is a multilabel classification task. Tree boosted algorithms such as XGB perform very well specially given the size of the dataset and relatively large number of features.\n"
   ]
  },
  {
   "cell_type": "markdown",
   "metadata": {},
   "source": [
    "### Data and Input"
   ]
  },
  {
   "cell_type": "markdown",
   "metadata": {},
   "source": [
    "The datasets are provided by Udacity and Starbucks. They include:\n",
    "- profile.csv\n",
    "- portfolio.csv\n",
    "- transcript.csv\n",
    "\n",
    "These will provide the basis for the multilabel classifier. No further inputs will be needed. "
   ]
  },
  {
   "cell_type": "markdown",
   "metadata": {},
   "source": [
    "### Problem Statement"
   ]
  },
  {
   "cell_type": "markdown",
   "metadata": {},
   "source": [
    "I will build a tree boosted algorithm to predict who will complete and offer, who will transact, and who will view/recieve but not complete. \n",
    "\n",
    "- These are major events that can be tracked directly with the data. If a customer chooses to not opt into an offer and completes is anyway, that is only a win for business as they have spent more money and recieved $0 in reward. It also tells us something about their purchase habits. If they only transact, then again they have spent money with the need for reward. Lastly, if they complete an offer after viewing, then they are responding well to advertising and are likely spending more, or at least the same, amount of money to receive the incentive. \n",
    "\n",
    "- Additionally, by knowing who is likely to complete, transact, view, or recieve only then we can analyze the business practices around duration, marketing, and difficulty to determine changes in engagment for those who do not complete or transact. \n",
    "\n",
    "**Once a model is build and evaluated, we can view the feature importance to understand what features are important to a given outcome.**\n",
    "\n",
    " - Feature importance will be a great window into know which of the many data points collected hold the most predictive power for the each class label. "
   ]
  },
  {
   "cell_type": "markdown",
   "metadata": {},
   "source": [
    "### Expected Result"
   ]
  },
  {
   "cell_type": "markdown",
   "metadata": {},
   "source": [
    "I would expect this model to be able to predict fairly well the transaction and completion classes as they are very distinict and likely correalate to very different habits of a buyer. Offer view and offer receive are highly similar in root behavior. Your phone pings you with a push notification, you look at the offer, you get distracted and forget completely. In that fraction of a second you have received and viewed the offer and gone about your day. This categoricall different from opting into an offer, using the app to purchase towards that offer and then (possibly) cashing in on the reward. \n",
    "\n",
    "- Expectations are low for predicting views/receives in terms of accuracy, precision, and recall\n",
    "- Expectations are high for predicting completion and transaction in terms of accuracy, precision, and recall"
   ]
  },
  {
   "cell_type": "markdown",
   "metadata": {},
   "source": [
    "## Metrics"
   ]
  },
  {
   "cell_type": "markdown",
   "metadata": {},
   "source": [
    "The primary metrics that will evaluate this model are accuracy, precision, and recall. \n",
    "\n",
    "- Classification of views/receives of offer will likely have some form the precision/recell trade-off. Either the model will have high precision- it's percent correct, and low recall- it's ability to find cases, or the reverse. \n",
    "- Classification of transaction and completion will likely be very good. The class labels are fairly well balanced so we would expect precision, accuracy, and recall to be well balance if the model can predict classes well. "
   ]
  },
  {
   "cell_type": "markdown",
   "metadata": {},
   "source": [
    "## Evaluation"
   ]
  },
  {
   "cell_type": "markdown",
   "metadata": {},
   "source": [
    "XGB multilabel classifier preformance cited below. As expected, transactions and completions are well predicted on the hold-out set. For offer views and received, the model cannot predict these classes very well. Further work could be completed to determine a better solution for disecting these groups."
   ]
  },
  {
   "cell_type": "markdown",
   "metadata": {},
   "source": [
    "               precision    recall  f1-score   support\n",
    "\n",
    "           0       0.88      0.17      0.28      7546\n",
    "           1       0.47      0.97      0.63      5689\n",
    "           2       1.00      1.00      1.00      3416\n",
    "           3       1.00      1.00      1.00     14003\n",
    "\n",
    "    accuracy                           0.79     30654"
   ]
  },
  {
   "cell_type": "markdown",
   "metadata": {},
   "source": [
    "Events are numeric as such: \n",
    "    \n",
    "`offer received` = 0, `offer viewed` = 1, `offer completed` = 2, `transaction` = 3 \n",
    "\n",
    "This is a great result for predicting something like a transaction or offer completion. If the goal is to find who will buy without offer and who will buy with an offer, then this is pretty good. "
   ]
  },
  {
   "cell_type": "markdown",
   "metadata": {},
   "source": [
    "## Conclusions"
   ]
  },
  {
   "cell_type": "markdown",
   "metadata": {},
   "source": [
    "The top features that seem to dictate the likely hood a customer will transact, complete offer, view, or receive. One of the strongest predictors is reward amount, duration, the specific offer, and transaction amount. Secondary predictors apprear to be offer type, marketing saturation, and difficulty. The second and third models evaluated tell a similar story. Since offer id carries a heavy predictive power, future work could be to determine the significance of each offer for completion. Reward amount was a top predictor as well, so that is also an avenue for further work. Which amount if optimal for completion.\n",
    "\n",
    "Interestingly enough; age, gender, income, and offer type carry no (or little) predictive power. There is some literature support this idea re: Martens and Provost (2011); at a certain point sociodemogrpahics add no additional predictive power when compared to transaction activity. "
   ]
  },
  {
   "cell_type": "markdown",
   "metadata": {},
   "source": [
    "## Citation"
   ]
  },
  {
   "cell_type": "markdown",
   "metadata": {},
   "source": [
    "- Martens, D., & Provost, F. (2011). Pseudo-social network targeting from consumer transaction data. Workinng paper CeDER-11-05, New York University - Stern School of Business. "
   ]
  }
 ],
 "metadata": {
  "kernelspec": {
   "display_name": "Python 3",
   "language": "python",
   "name": "python3"
  },
  "language_info": {
   "codemirror_mode": {
    "name": "ipython",
    "version": 3
   },
   "file_extension": ".py",
   "mimetype": "text/x-python",
   "name": "python",
   "nbconvert_exporter": "python",
   "pygments_lexer": "ipython3",
   "version": "3.7.3"
  },
  "toc": {
   "base_numbering": 1,
   "nav_menu": {},
   "number_sections": true,
   "sideBar": false,
   "skip_h1_title": true,
   "title_cell": "Table of Contents",
   "title_sidebar": "Contents",
   "toc_cell": true,
   "toc_position": {},
   "toc_section_display": true,
   "toc_window_display": false
  }
 },
 "nbformat": 4,
 "nbformat_minor": 2
}
