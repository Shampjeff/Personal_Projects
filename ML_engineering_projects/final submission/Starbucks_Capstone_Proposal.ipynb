{
 "cells": [
  {
   "cell_type": "markdown",
   "metadata": {
    "toc": true
   },
   "source": [
    "<h1>Table of Contents<span class=\"tocSkip\"></span></h1>\n",
    "<div class=\"toc\"><ul class=\"toc-item\"><li><span><a href=\"#Domain-Background\" data-toc-modified-id=\"Domain-Background-1\"><span class=\"toc-item-num\">1&nbsp;&nbsp;</span>Domain Background</a></span></li><li><span><a href=\"#Problem-Statement\" data-toc-modified-id=\"Problem-Statement-2\"><span class=\"toc-item-num\">2&nbsp;&nbsp;</span>Problem Statement</a></span><ul class=\"toc-item\"><li><span><a href=\"#Expected-Result\" data-toc-modified-id=\"Expected-Result-2.1\"><span class=\"toc-item-num\">2.1&nbsp;&nbsp;</span>Expected Result</a></span></li></ul></li><li><span><a href=\"#Datasets-and-Inputs\" data-toc-modified-id=\"Datasets-and-Inputs-3\"><span class=\"toc-item-num\">3&nbsp;&nbsp;</span>Datasets and Inputs</a></span></li><li><span><a href=\"#Solution-Statement\" data-toc-modified-id=\"Solution-Statement-4\"><span class=\"toc-item-num\">4&nbsp;&nbsp;</span>Solution Statement</a></span></li><li><span><a href=\"#Benchmark-Model\" data-toc-modified-id=\"Benchmark-Model-5\"><span class=\"toc-item-num\">5&nbsp;&nbsp;</span>Benchmark Model</a></span></li><li><span><a href=\"#Evaluation-Metrics\" data-toc-modified-id=\"Evaluation-Metrics-6\"><span class=\"toc-item-num\">6&nbsp;&nbsp;</span>Evaluation Metrics</a></span></li><li><span><a href=\"#Project-Design\" data-toc-modified-id=\"Project-Design-7\"><span class=\"toc-item-num\">7&nbsp;&nbsp;</span>Project Design</a></span></li></ul></div>"
   ]
  },
  {
   "cell_type": "markdown",
   "metadata": {},
   "source": [
    "# Starbucks Capstone Proposal"
   ]
  },
  {
   "cell_type": "markdown",
   "metadata": {},
   "source": [
    "Udacity ML Engineering Nanodegree"
   ]
  },
  {
   "cell_type": "markdown",
   "metadata": {},
   "source": [
    "## Domain Background"
   ]
  },
  {
   "cell_type": "markdown",
   "metadata": {},
   "source": [
    "This project revolves around the Starbucks dataset provided through Udacity. I chose this problem because I have some experience in predicting customer outcomes from self-reported data as it relates to product use and engagement. I was also interested in the extent that demographics will actually have in offer completion. Does income or age matter at all in terms of who completes offers or who simply walks in a buys something. <br>\n",
    "\n",
    "From the Udacity project outline: <br><br>\n",
    "\n",
    "_Your task is to combine transaction, demographic and offer data to determine which demographic groups respond best to which offer type._ <br>\n",
    "\n",
    "- As such this project will try to predict each of the four event types: transact, complete offer, view offer, and receive offer. With a model that can predict transaction, completion, view, and receive then we can see what types of features have predictive power for a given outcome. \n",
    "\n",
    "- It machine learning terms, this is a multilabel classification task. Well known algorithms such as XGB, GBM, and to a lesser extent SVM can be used successfully for multilabel classification. Given the size of the dataset and relatively large number of features, a tree boosted algorithm will probably a good chioce. \n"
   ]
  },
  {
   "cell_type": "markdown",
   "metadata": {},
   "source": [
    "## Problem Statement"
   ]
  },
  {
   "cell_type": "markdown",
   "metadata": {},
   "source": [
    "Simply put, I'm going to build a tree boosted algorithm to predict who will complete and offer, who will transact, and who will view/recieve but not complete. \n",
    "\n",
    "- These are major events that can be tracked directly with the data. If a customer chooses to not opt into an offer and completes is anyway, that is only a win for business as they have spent more money and recieved $0 in reward. It also tells us something about their purchase habits. If they only transact, then again they have spent money with the need for reward. Lastly, if they complete an offer after viewing, then they are responding well to advertising and are likely spending more, or at least the same, amount of money to receive the incentive. \n",
    "\n",
    "- Additionally, by knowing who is likely to complete, transact, view, or recieve only then we can analyze the business practices around duration, marketing, and difficulty to determine changes in engagment for those who do not complete or transact. \n",
    "\n",
    "Once a model is build and evaluated, we can view the feature importance to understand what features are important to outcome.\n"
   ]
  },
  {
   "cell_type": "markdown",
   "metadata": {},
   "source": [
    "## Datasets and Inputs"
   ]
  },
  {
   "cell_type": "markdown",
   "metadata": {},
   "source": [
    "The datasets are provided by Udacity and Starbucks. They include:\n",
    "- profile.csv\n",
    "- portfolio.csv\n",
    "- transcript.csv\n",
    "\n",
    "These will provide the basis for the multilabel classifier. No further inputs will be needed. "
   ]
  },
  {
   "cell_type": "markdown",
   "metadata": {},
   "source": [
    "## Solution Statement"
   ]
  },
  {
   "cell_type": "markdown",
   "metadata": {},
   "source": [
    "I will label the outcomes of transact, complete offer, view, and recieve only as target labels for a multilabel classifer using a tree boosted algorithm (XGB). The output for any observation in the training or validation set will a prediction if the customer will transact, complete, view, or receive only. I will them use the model weights to determine the predictive power each feature in the combined dataset. "
   ]
  },
  {
   "cell_type": "markdown",
   "metadata": {},
   "source": [
    "## Benchmark Model"
   ]
  },
  {
   "cell_type": "markdown",
   "metadata": {},
   "source": [
    "Given the lack of pre-determined answer to this problem, I'll simply benchmark this algorithm against a random distribution of target label predictions. The goal here is to such that solution model is significantly better than random guessing. "
   ]
  },
  {
   "cell_type": "markdown",
   "metadata": {},
   "source": [
    "## Evaluation Metrics"
   ]
  },
  {
   "cell_type": "markdown",
   "metadata": {},
   "source": [
    "I like to compute all the basic evaluation metrics for an ML model. Often, individual models will have trade-offs in preformance. Those trade-offs need to carefully weighed to understand which model will best fit the needs of the problem. The following metrics will be calculated during cross vaildation and displayed in dictionary form as follows:\n",
    "\n",
    "- 'f1_score': {'mean': ###, 'sd': ###}, <br>\n",
    "\n",
    "  'recall': {'mean': ###, 'sd': ###}, <br>\n",
    "  \n",
    "  'precision': {'mean': ###, 'sd': ###}, <br>\n",
    "  \n",
    "  'specificity': {'mean': ###, 'sd': ###}, <br>\n",
    "  \n",
    "  'balanced_accuracy': {'mean': ###, 'sd': ###}, <br>\n",
    "  \n",
    "  'accuracy': {'mean': ###, 'sd': ###}}"
   ]
  },
  {
   "cell_type": "markdown",
   "metadata": {},
   "source": [
    "## Project Design"
   ]
  },
  {
   "cell_type": "markdown",
   "metadata": {},
   "source": [
    "This project will follow the basic data science workflow. <br>\n",
    " - Data collation, preprocessing, cleaning. Given the categorical features in these datasets, encoding will be required. <br>\n",
    " - Modeling. This will include building out a model testing framework that uses cross validation so as to be able to thorough compare various models. <br>\n",
    " - Analyze results. Using the best model, determine which features best predict the defined outcomes. <br>\n",
    " - Ideas for future work"
   ]
  }
 ],
 "metadata": {
  "kernelspec": {
   "display_name": "Python 3",
   "language": "python",
   "name": "python3"
  },
  "language_info": {
   "codemirror_mode": {
    "name": "ipython",
    "version": 3
   },
   "file_extension": ".py",
   "mimetype": "text/x-python",
   "name": "python",
   "nbconvert_exporter": "python",
   "pygments_lexer": "ipython3",
   "version": "3.7.3"
  },
  "toc": {
   "base_numbering": 1,
   "nav_menu": {},
   "number_sections": true,
   "sideBar": false,
   "skip_h1_title": true,
   "title_cell": "Table of Contents",
   "title_sidebar": "Contents",
   "toc_cell": true,
   "toc_position": {},
   "toc_section_display": true,
   "toc_window_display": false
  }
 },
 "nbformat": 4,
 "nbformat_minor": 2
}
