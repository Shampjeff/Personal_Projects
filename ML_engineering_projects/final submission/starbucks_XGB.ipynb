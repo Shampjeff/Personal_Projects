{
 "cells": [
  {
   "cell_type": "markdown",
   "metadata": {
    "toc": true
   },
   "source": [
    "<h1>Table of Contents<span class=\"tocSkip\"></span></h1>\n",
    "<div class=\"toc\"><ul class=\"toc-item\"><li><span><a href=\"#Project-Overview\" data-toc-modified-id=\"Project-Overview-1\"><span class=\"toc-item-num\">1&nbsp;&nbsp;</span>Project Overview</a></span><ul class=\"toc-item\"><li><span><a href=\"#Data-and-Input\" data-toc-modified-id=\"Data-and-Input-1.1\"><span class=\"toc-item-num\">1.1&nbsp;&nbsp;</span>Data and Input</a></span></li><li><span><a href=\"#Problem-Statement\" data-toc-modified-id=\"Problem-Statement-1.2\"><span class=\"toc-item-num\">1.2&nbsp;&nbsp;</span>Problem Statement</a></span></li><li><span><a href=\"#Expected-Result\" data-toc-modified-id=\"Expected-Result-1.3\"><span class=\"toc-item-num\">1.3&nbsp;&nbsp;</span>Expected Result</a></span></li></ul></li><li><span><a href=\"#Metrics\" data-toc-modified-id=\"Metrics-2\"><span class=\"toc-item-num\">2&nbsp;&nbsp;</span>Metrics</a></span></li><li><span><a href=\"#Evaluation\" data-toc-modified-id=\"Evaluation-3\"><span class=\"toc-item-num\">3&nbsp;&nbsp;</span>Evaluation</a></span></li><li><span><a href=\"#Data-Preparation\" data-toc-modified-id=\"Data-Preparation-4\"><span class=\"toc-item-num\">4&nbsp;&nbsp;</span>Data Preparation</a></span></li><li><span><a href=\"#Categorical-encoding-scheme\" data-toc-modified-id=\"Categorical-encoding-scheme-5\"><span class=\"toc-item-num\">5&nbsp;&nbsp;</span>Categorical encoding scheme</a></span><ul class=\"toc-item\"><li><span><a href=\"#Channels-column\" data-toc-modified-id=\"Channels-column-5.1\"><span class=\"toc-item-num\">5.1&nbsp;&nbsp;</span>Channels column</a></span></li><li><span><a href=\"#Offer-type-column\" data-toc-modified-id=\"Offer-type-column-5.2\"><span class=\"toc-item-num\">5.2&nbsp;&nbsp;</span>Offer type column</a></span></li><li><span><a href=\"#Gender-column\" data-toc-modified-id=\"Gender-column-5.3\"><span class=\"toc-item-num\">5.3&nbsp;&nbsp;</span>Gender column</a></span></li><li><span><a href=\"#Target:-Event-encoding\" data-toc-modified-id=\"Target:-Event-encoding-5.4\"><span class=\"toc-item-num\">5.4&nbsp;&nbsp;</span>Target: Event encoding</a></span></li><li><span><a href=\"#Offer-id-and-customer-id\" data-toc-modified-id=\"Offer-id-and-customer-id-5.5\"><span class=\"toc-item-num\">5.5&nbsp;&nbsp;</span>Offer id and customer id</a></span></li></ul></li><li><span><a href=\"#Imputation\" data-toc-modified-id=\"Imputation-6\"><span class=\"toc-item-num\">6&nbsp;&nbsp;</span>Imputation</a></span><ul class=\"toc-item\"><li><span><a href=\"#Filling-NaN-values\" data-toc-modified-id=\"Filling-NaN-values-6.1\"><span class=\"toc-item-num\">6.1&nbsp;&nbsp;</span>Filling NaN values</a></span></li></ul></li><li><span><a href=\"#Multilabel-Classification\" data-toc-modified-id=\"Multilabel-Classification-7\"><span class=\"toc-item-num\">7&nbsp;&nbsp;</span>Multilabel Classification</a></span><ul class=\"toc-item\"><li><span><a href=\"#Test-set-for-model-evaluation\" data-toc-modified-id=\"Test-set-for-model-evaluation-7.1\"><span class=\"toc-item-num\">7.1&nbsp;&nbsp;</span>Test set for model evaluation</a></span></li><li><span><a href=\"#Random-Search-XGB-model\" data-toc-modified-id=\"Random-Search-XGB-model-7.2\"><span class=\"toc-item-num\">7.2&nbsp;&nbsp;</span>Random Search XGB model</a></span></li><li><span><a href=\"#Model-Evaluation\" data-toc-modified-id=\"Model-Evaluation-7.3\"><span class=\"toc-item-num\">7.3&nbsp;&nbsp;</span>Model Evaluation</a></span></li><li><span><a href=\"#Feature-Importance-to-Class-Label\" data-toc-modified-id=\"Feature-Importance-to-Class-Label-7.4\"><span class=\"toc-item-num\">7.4&nbsp;&nbsp;</span>Feature Importance to Class Label</a></span></li><li><span><a href=\"#BASELINE:-Random-class-distribution-prediction\" data-toc-modified-id=\"BASELINE:-Random-class-distribution-prediction-7.5\"><span class=\"toc-item-num\">7.5&nbsp;&nbsp;</span>BASELINE: Random class distribution prediction</a></span></li></ul></li><li><span><a href=\"#Citation\" data-toc-modified-id=\"Citation-8\"><span class=\"toc-item-num\">8&nbsp;&nbsp;</span>Citation</a></span></li></ul></div>"
   ]
  },
  {
   "cell_type": "markdown",
   "metadata": {},
   "source": [
    "## Project Overview"
   ]
  },
  {
   "cell_type": "markdown",
   "metadata": {},
   "source": [
    "This project revolves around the Starbucks dataset provided through Udacity. I chose this problem because I have some experience in predicting customer outcomes from self-reported data as it relates to product use and engagement. I was also interested in the extent that demographics will actually have in offer completion. Does income or age matter at all in terms of who completes offers or who simply walks in a buys something. <br>\n",
    "\n",
    "From the Udacity project outline:\n",
    "\n",
    "\n",
    "_Your task is to combine transaction, demographic and offer data to determine which demographic groups respond best to which offer type._ <br>\n",
    "\n",
    "\n",
    "- As such this project will try to predict each of the four event types: transact, complete offer, view offer, and receive offer. With a model that can predict transaction, completion, view, and receive then we can see what types of features have predictive power for a given outcome. \n",
    "\n",
    "- It machine learning terms, this is a multilabel classification task. Tree boosted algorithms such as XGB perform very well specially given the size of the dataset and relatively large number of features.\n"
   ]
  },
  {
   "cell_type": "markdown",
   "metadata": {},
   "source": [
    "### Data and Input"
   ]
  },
  {
   "cell_type": "markdown",
   "metadata": {},
   "source": [
    "The datasets are provided by Udacity and Starbucks. They include:\n",
    "- profile.csv\n",
    "- portfolio.csv\n",
    "- transcript.csv\n",
    "\n",
    "These will provide the basis for the multilabel classifier. No further inputs will be needed. "
   ]
  },
  {
   "cell_type": "markdown",
   "metadata": {},
   "source": [
    "### Problem Statement"
   ]
  },
  {
   "cell_type": "markdown",
   "metadata": {},
   "source": [
    "I will build a tree boosted algorithm to predict who will complete and offer, who will transact, and who will view/recieve but not complete. \n",
    "\n",
    "- These are major events that can be tracked directly with the data. If a customer chooses to not opt into an offer and completes is anyway, that is only a win for business as they have spent more money and recieved $0 in reward. It also tells us something about their purchase habits. If they only transact, then again they have spent money with the need for reward. Lastly, if they complete an offer after viewing, then they are responding well to advertising and are likely spending more, or at least the same, amount of money to receive the incentive. \n",
    "\n",
    "- Additionally, by knowing who is likely to complete, transact, view, or recieve only then we can analyze the business practices around duration, marketing, and difficulty to determine changes in engagment for those who do not complete or transact. \n",
    "\n",
    "**Once a model is build and evaluated, we can view the feature importance to understand what features are important to a given outcome.**\n",
    "\n",
    " - Feature importance will be a great window into know which of the many data points collected hold the most predictive power for the each class label. "
   ]
  },
  {
   "cell_type": "markdown",
   "metadata": {},
   "source": [
    "### Expected Result"
   ]
  },
  {
   "cell_type": "markdown",
   "metadata": {},
   "source": [
    "I would expect this model to be able to predict fairly well the transaction and completion classes as they are very distinict and likely correalate to very different habits of a buyer. Offer view and offer receive are highly similar in root behavior. Your phone pings you with a push notification, you look at the offer, you get distracted and forget completely. In that fraction of a second you have received and viewed the offer and gone about your day. This categoricall different from opting into an offer, using the app to purchase towards that offer and then (possibly) cashing in on the reward. \n",
    "\n",
    "- Expectations are low for predicting views/receives in terms of accuracy, precision, and recall\n",
    "- Expectations are high for predicting completion and transaction in terms of accuracy, precision, and recall"
   ]
  },
  {
   "cell_type": "markdown",
   "metadata": {},
   "source": [
    "## Metrics"
   ]
  },
  {
   "cell_type": "markdown",
   "metadata": {},
   "source": [
    "The primary metrics that will evaluate this model are accuracy, precision, and recall. \n",
    "\n",
    "- Classification of views/receives of offer will likely have some form the precision/recell trade-off. Either the model will have high precision- it's percent correct, and low recall- it's ability to find cases, or the reverse. \n",
    "- Classification of transaction and completion will likely be very good. The class labels are fairly well balanced so we would expect precision, accuracy, and recall to be well balance if the model can predict classes well. "
   ]
  },
  {
   "cell_type": "markdown",
   "metadata": {},
   "source": [
    "## Evaluation"
   ]
  },
  {
   "cell_type": "markdown",
   "metadata": {},
   "source": [
    "XGB multilabel classifier preformance cited below. As expected, transactions and completions are well predicted on the hold-out set. For offer views and received, the model cannot predict these classes very well. Further work could be completed to determine a better solution for disecting these groups."
   ]
  },
  {
   "cell_type": "markdown",
   "metadata": {},
   "source": [
    "               precision    recall  f1-score   support\n",
    "\n",
    "           0       0.88      0.17      0.28      7546\n",
    "           1       0.47      0.97      0.63      5689\n",
    "           2       1.00      1.00      1.00      3416\n",
    "           3       1.00      1.00      1.00     14003\n",
    "\n",
    "    accuracy                           0.79     30654"
   ]
  },
  {
   "cell_type": "markdown",
   "metadata": {},
   "source": [
    "## Data Preparation"
   ]
  },
  {
   "cell_type": "code",
   "execution_count": 1,
   "metadata": {},
   "outputs": [],
   "source": [
    "import pandas as pd\n",
    "import numpy as np\n",
    "import matplotlib.pyplot as plt\n",
    "import seaborn as sns\n",
    "from sklearn.metrics import confusion_matrix, classification_report,accuracy_score\n",
    "from sklearn.model_selection import train_test_split\n",
    "import xgboost as xgb\n",
    "import joblib\n",
    "\n",
    "from ml_test_tools import test_model, rank_top_performers, plot_features_importance\n",
    "\n",
    "sns.set(style='darkgrid')\n",
    "%matplotlib inline\n",
    "%load_ext autoreload\n",
    "%autoreload 2"
   ]
  },
  {
   "cell_type": "code",
   "execution_count": 2,
   "metadata": {},
   "outputs": [],
   "source": [
    "portfolio = pd.read_json('data/portfolio.json', orient='records', lines=True)\n",
    "profile = pd.read_json('data/profile.json', orient='records', lines=True)\n",
    "transcript = pd.read_json('data/transcript.json', orient='records', lines=True)"
   ]
  },
  {
   "cell_type": "code",
   "execution_count": 3,
   "metadata": {},
   "outputs": [
    {
     "data": {
      "text/html": [
       "<div>\n",
       "<style scoped>\n",
       "    .dataframe tbody tr th:only-of-type {\n",
       "        vertical-align: middle;\n",
       "    }\n",
       "\n",
       "    .dataframe tbody tr th {\n",
       "        vertical-align: top;\n",
       "    }\n",
       "\n",
       "    .dataframe thead th {\n",
       "        text-align: right;\n",
       "    }\n",
       "</style>\n",
       "<table border=\"1\" class=\"dataframe\">\n",
       "  <thead>\n",
       "    <tr style=\"text-align: right;\">\n",
       "      <th></th>\n",
       "      <th>channels</th>\n",
       "      <th>difficulty</th>\n",
       "      <th>duration</th>\n",
       "      <th>id</th>\n",
       "      <th>offer_type</th>\n",
       "      <th>reward</th>\n",
       "    </tr>\n",
       "  </thead>\n",
       "  <tbody>\n",
       "    <tr>\n",
       "      <th>0</th>\n",
       "      <td>[email, mobile, social]</td>\n",
       "      <td>10</td>\n",
       "      <td>7</td>\n",
       "      <td>ae264e3637204a6fb9bb56bc8210ddfd</td>\n",
       "      <td>bogo</td>\n",
       "      <td>10</td>\n",
       "    </tr>\n",
       "    <tr>\n",
       "      <th>1</th>\n",
       "      <td>[web, email, mobile, social]</td>\n",
       "      <td>10</td>\n",
       "      <td>5</td>\n",
       "      <td>4d5c57ea9a6940dd891ad53e9dbe8da0</td>\n",
       "      <td>bogo</td>\n",
       "      <td>10</td>\n",
       "    </tr>\n",
       "    <tr>\n",
       "      <th>2</th>\n",
       "      <td>[web, email, mobile]</td>\n",
       "      <td>0</td>\n",
       "      <td>4</td>\n",
       "      <td>3f207df678b143eea3cee63160fa8bed</td>\n",
       "      <td>informational</td>\n",
       "      <td>0</td>\n",
       "    </tr>\n",
       "    <tr>\n",
       "      <th>3</th>\n",
       "      <td>[web, email, mobile]</td>\n",
       "      <td>5</td>\n",
       "      <td>7</td>\n",
       "      <td>9b98b8c7a33c4b65b9aebfe6a799e6d9</td>\n",
       "      <td>bogo</td>\n",
       "      <td>5</td>\n",
       "    </tr>\n",
       "    <tr>\n",
       "      <th>4</th>\n",
       "      <td>[web, email]</td>\n",
       "      <td>20</td>\n",
       "      <td>10</td>\n",
       "      <td>0b1e1539f2cc45b7b9fa7c272da2e1d7</td>\n",
       "      <td>discount</td>\n",
       "      <td>5</td>\n",
       "    </tr>\n",
       "  </tbody>\n",
       "</table>\n",
       "</div>"
      ],
      "text/plain": [
       "                       channels  difficulty  duration  \\\n",
       "0       [email, mobile, social]          10         7   \n",
       "1  [web, email, mobile, social]          10         5   \n",
       "2          [web, email, mobile]           0         4   \n",
       "3          [web, email, mobile]           5         7   \n",
       "4                  [web, email]          20        10   \n",
       "\n",
       "                                 id     offer_type  reward  \n",
       "0  ae264e3637204a6fb9bb56bc8210ddfd           bogo      10  \n",
       "1  4d5c57ea9a6940dd891ad53e9dbe8da0           bogo      10  \n",
       "2  3f207df678b143eea3cee63160fa8bed  informational       0  \n",
       "3  9b98b8c7a33c4b65b9aebfe6a799e6d9           bogo       5  \n",
       "4  0b1e1539f2cc45b7b9fa7c272da2e1d7       discount       5  "
      ]
     },
     "execution_count": 3,
     "metadata": {},
     "output_type": "execute_result"
    }
   ],
   "source": [
    "portfolio.head()"
   ]
  },
  {
   "cell_type": "code",
   "execution_count": 4,
   "metadata": {},
   "outputs": [
    {
     "data": {
      "text/html": [
       "<div>\n",
       "<style scoped>\n",
       "    .dataframe tbody tr th:only-of-type {\n",
       "        vertical-align: middle;\n",
       "    }\n",
       "\n",
       "    .dataframe tbody tr th {\n",
       "        vertical-align: top;\n",
       "    }\n",
       "\n",
       "    .dataframe thead th {\n",
       "        text-align: right;\n",
       "    }\n",
       "</style>\n",
       "<table border=\"1\" class=\"dataframe\">\n",
       "  <thead>\n",
       "    <tr style=\"text-align: right;\">\n",
       "      <th></th>\n",
       "      <th>event</th>\n",
       "      <th>person</th>\n",
       "      <th>time</th>\n",
       "      <th>value</th>\n",
       "    </tr>\n",
       "  </thead>\n",
       "  <tbody>\n",
       "    <tr>\n",
       "      <th>0</th>\n",
       "      <td>offer received</td>\n",
       "      <td>78afa995795e4d85b5d9ceeca43f5fef</td>\n",
       "      <td>0</td>\n",
       "      <td>{'offer id': '9b98b8c7a33c4b65b9aebfe6a799e6d9'}</td>\n",
       "    </tr>\n",
       "    <tr>\n",
       "      <th>1</th>\n",
       "      <td>offer received</td>\n",
       "      <td>a03223e636434f42ac4c3df47e8bac43</td>\n",
       "      <td>0</td>\n",
       "      <td>{'offer id': '0b1e1539f2cc45b7b9fa7c272da2e1d7'}</td>\n",
       "    </tr>\n",
       "    <tr>\n",
       "      <th>2</th>\n",
       "      <td>offer received</td>\n",
       "      <td>e2127556f4f64592b11af22de27a7932</td>\n",
       "      <td>0</td>\n",
       "      <td>{'offer id': '2906b810c7d4411798c6938adc9daaa5'}</td>\n",
       "    </tr>\n",
       "    <tr>\n",
       "      <th>3</th>\n",
       "      <td>offer received</td>\n",
       "      <td>8ec6ce2a7e7949b1bf142def7d0e0586</td>\n",
       "      <td>0</td>\n",
       "      <td>{'offer id': 'fafdcd668e3743c1bb461111dcafc2a4'}</td>\n",
       "    </tr>\n",
       "    <tr>\n",
       "      <th>4</th>\n",
       "      <td>offer received</td>\n",
       "      <td>68617ca6246f4fbc85e91a2a49552598</td>\n",
       "      <td>0</td>\n",
       "      <td>{'offer id': '4d5c57ea9a6940dd891ad53e9dbe8da0'}</td>\n",
       "    </tr>\n",
       "  </tbody>\n",
       "</table>\n",
       "</div>"
      ],
      "text/plain": [
       "            event                            person  time  \\\n",
       "0  offer received  78afa995795e4d85b5d9ceeca43f5fef     0   \n",
       "1  offer received  a03223e636434f42ac4c3df47e8bac43     0   \n",
       "2  offer received  e2127556f4f64592b11af22de27a7932     0   \n",
       "3  offer received  8ec6ce2a7e7949b1bf142def7d0e0586     0   \n",
       "4  offer received  68617ca6246f4fbc85e91a2a49552598     0   \n",
       "\n",
       "                                              value  \n",
       "0  {'offer id': '9b98b8c7a33c4b65b9aebfe6a799e6d9'}  \n",
       "1  {'offer id': '0b1e1539f2cc45b7b9fa7c272da2e1d7'}  \n",
       "2  {'offer id': '2906b810c7d4411798c6938adc9daaa5'}  \n",
       "3  {'offer id': 'fafdcd668e3743c1bb461111dcafc2a4'}  \n",
       "4  {'offer id': '4d5c57ea9a6940dd891ad53e9dbe8da0'}  "
      ]
     },
     "execution_count": 4,
     "metadata": {},
     "output_type": "execute_result"
    }
   ],
   "source": [
    "transcript.head()"
   ]
  },
  {
   "cell_type": "code",
   "execution_count": 5,
   "metadata": {},
   "outputs": [
    {
     "data": {
      "text/html": [
       "<div>\n",
       "<style scoped>\n",
       "    .dataframe tbody tr th:only-of-type {\n",
       "        vertical-align: middle;\n",
       "    }\n",
       "\n",
       "    .dataframe tbody tr th {\n",
       "        vertical-align: top;\n",
       "    }\n",
       "\n",
       "    .dataframe thead th {\n",
       "        text-align: right;\n",
       "    }\n",
       "</style>\n",
       "<table border=\"1\" class=\"dataframe\">\n",
       "  <thead>\n",
       "    <tr style=\"text-align: right;\">\n",
       "      <th></th>\n",
       "      <th>age</th>\n",
       "      <th>became_member_on</th>\n",
       "      <th>gender</th>\n",
       "      <th>id</th>\n",
       "      <th>income</th>\n",
       "    </tr>\n",
       "  </thead>\n",
       "  <tbody>\n",
       "    <tr>\n",
       "      <th>0</th>\n",
       "      <td>118</td>\n",
       "      <td>20170212</td>\n",
       "      <td>None</td>\n",
       "      <td>68be06ca386d4c31939f3a4f0e3dd783</td>\n",
       "      <td>NaN</td>\n",
       "    </tr>\n",
       "    <tr>\n",
       "      <th>1</th>\n",
       "      <td>55</td>\n",
       "      <td>20170715</td>\n",
       "      <td>F</td>\n",
       "      <td>0610b486422d4921ae7d2bf64640c50b</td>\n",
       "      <td>112000.0</td>\n",
       "    </tr>\n",
       "    <tr>\n",
       "      <th>2</th>\n",
       "      <td>118</td>\n",
       "      <td>20180712</td>\n",
       "      <td>None</td>\n",
       "      <td>38fe809add3b4fcf9315a9694bb96ff5</td>\n",
       "      <td>NaN</td>\n",
       "    </tr>\n",
       "    <tr>\n",
       "      <th>3</th>\n",
       "      <td>75</td>\n",
       "      <td>20170509</td>\n",
       "      <td>F</td>\n",
       "      <td>78afa995795e4d85b5d9ceeca43f5fef</td>\n",
       "      <td>100000.0</td>\n",
       "    </tr>\n",
       "    <tr>\n",
       "      <th>4</th>\n",
       "      <td>118</td>\n",
       "      <td>20170804</td>\n",
       "      <td>None</td>\n",
       "      <td>a03223e636434f42ac4c3df47e8bac43</td>\n",
       "      <td>NaN</td>\n",
       "    </tr>\n",
       "  </tbody>\n",
       "</table>\n",
       "</div>"
      ],
      "text/plain": [
       "   age  became_member_on gender                                id    income\n",
       "0  118          20170212   None  68be06ca386d4c31939f3a4f0e3dd783       NaN\n",
       "1   55          20170715      F  0610b486422d4921ae7d2bf64640c50b  112000.0\n",
       "2  118          20180712   None  38fe809add3b4fcf9315a9694bb96ff5       NaN\n",
       "3   75          20170509      F  78afa995795e4d85b5d9ceeca43f5fef  100000.0\n",
       "4  118          20170804   None  a03223e636434f42ac4c3df47e8bac43       NaN"
      ]
     },
     "execution_count": 5,
     "metadata": {},
     "output_type": "execute_result"
    }
   ],
   "source": [
    "profile.head()"
   ]
  },
  {
   "cell_type": "code",
   "execution_count": 6,
   "metadata": {},
   "outputs": [],
   "source": [
    "df_1 = pd.merge(left=profile, right=transcript, left_on='id', right_on='person')"
   ]
  },
  {
   "cell_type": "code",
   "execution_count": 7,
   "metadata": {},
   "outputs": [],
   "source": [
    "df_1 = df_1.drop('person', axis=1)"
   ]
  },
  {
   "cell_type": "code",
   "execution_count": 8,
   "metadata": {},
   "outputs": [],
   "source": [
    "def parse_value_keys(row, value_type):\n",
    "    if value_type in row.keys():\n",
    "        label = row[value_type]\n",
    "        return label\n",
    "    else: pass"
   ]
  },
  {
   "cell_type": "code",
   "execution_count": 9,
   "metadata": {},
   "outputs": [],
   "source": [
    "df_1['reward_amount'] = df_1.value.apply(lambda x: parse_value_keys(x, 'reward'))\n",
    "df_1['transaction_amount'] = df_1.value.apply(lambda x: parse_value_keys(x, 'amount'))\n",
    "df_1['offer_id'] = df_1.value.apply(lambda x: parse_value_keys(x, 'offer id'))"
   ]
  },
  {
   "cell_type": "code",
   "execution_count": 10,
   "metadata": {},
   "outputs": [],
   "source": [
    "df_2 = pd.merge(left=df_1, right=portfolio, left_on='offer_id', right_on='id', how='outer',suffixes=('_customer','_offer'))"
   ]
  },
  {
   "cell_type": "code",
   "execution_count": 11,
   "metadata": {},
   "outputs": [],
   "source": [
    "df_complete = df_2.drop(['value','id_offer'], axis=1)"
   ]
  },
  {
   "cell_type": "code",
   "execution_count": 12,
   "metadata": {},
   "outputs": [
    {
     "data": {
      "text/html": [
       "<div>\n",
       "<style scoped>\n",
       "    .dataframe tbody tr th:only-of-type {\n",
       "        vertical-align: middle;\n",
       "    }\n",
       "\n",
       "    .dataframe tbody tr th {\n",
       "        vertical-align: top;\n",
       "    }\n",
       "\n",
       "    .dataframe thead th {\n",
       "        text-align: right;\n",
       "    }\n",
       "</style>\n",
       "<table border=\"1\" class=\"dataframe\">\n",
       "  <thead>\n",
       "    <tr style=\"text-align: right;\">\n",
       "      <th></th>\n",
       "      <th>age</th>\n",
       "      <th>became_member_on</th>\n",
       "      <th>gender</th>\n",
       "      <th>id_customer</th>\n",
       "      <th>income</th>\n",
       "      <th>event</th>\n",
       "      <th>time</th>\n",
       "      <th>reward_amount</th>\n",
       "      <th>transaction_amount</th>\n",
       "      <th>offer_id</th>\n",
       "      <th>channels</th>\n",
       "      <th>difficulty</th>\n",
       "      <th>duration</th>\n",
       "      <th>offer_type</th>\n",
       "      <th>reward</th>\n",
       "    </tr>\n",
       "  </thead>\n",
       "  <tbody>\n",
       "    <tr>\n",
       "      <th>0</th>\n",
       "      <td>118</td>\n",
       "      <td>20170212</td>\n",
       "      <td>None</td>\n",
       "      <td>68be06ca386d4c31939f3a4f0e3dd783</td>\n",
       "      <td>NaN</td>\n",
       "      <td>offer received</td>\n",
       "      <td>168</td>\n",
       "      <td>NaN</td>\n",
       "      <td>NaN</td>\n",
       "      <td>2906b810c7d4411798c6938adc9daaa5</td>\n",
       "      <td>[web, email, mobile]</td>\n",
       "      <td>10.0</td>\n",
       "      <td>7.0</td>\n",
       "      <td>discount</td>\n",
       "      <td>2.0</td>\n",
       "    </tr>\n",
       "    <tr>\n",
       "      <th>1</th>\n",
       "      <td>118</td>\n",
       "      <td>20170212</td>\n",
       "      <td>None</td>\n",
       "      <td>68be06ca386d4c31939f3a4f0e3dd783</td>\n",
       "      <td>NaN</td>\n",
       "      <td>offer viewed</td>\n",
       "      <td>216</td>\n",
       "      <td>NaN</td>\n",
       "      <td>NaN</td>\n",
       "      <td>2906b810c7d4411798c6938adc9daaa5</td>\n",
       "      <td>[web, email, mobile]</td>\n",
       "      <td>10.0</td>\n",
       "      <td>7.0</td>\n",
       "      <td>discount</td>\n",
       "      <td>2.0</td>\n",
       "    </tr>\n",
       "    <tr>\n",
       "      <th>2</th>\n",
       "      <td>68</td>\n",
       "      <td>20180426</td>\n",
       "      <td>M</td>\n",
       "      <td>e2127556f4f64592b11af22de27a7932</td>\n",
       "      <td>70000.0</td>\n",
       "      <td>offer received</td>\n",
       "      <td>0</td>\n",
       "      <td>NaN</td>\n",
       "      <td>NaN</td>\n",
       "      <td>2906b810c7d4411798c6938adc9daaa5</td>\n",
       "      <td>[web, email, mobile]</td>\n",
       "      <td>10.0</td>\n",
       "      <td>7.0</td>\n",
       "      <td>discount</td>\n",
       "      <td>2.0</td>\n",
       "    </tr>\n",
       "    <tr>\n",
       "      <th>3</th>\n",
       "      <td>68</td>\n",
       "      <td>20180426</td>\n",
       "      <td>M</td>\n",
       "      <td>e2127556f4f64592b11af22de27a7932</td>\n",
       "      <td>70000.0</td>\n",
       "      <td>offer viewed</td>\n",
       "      <td>18</td>\n",
       "      <td>NaN</td>\n",
       "      <td>NaN</td>\n",
       "      <td>2906b810c7d4411798c6938adc9daaa5</td>\n",
       "      <td>[web, email, mobile]</td>\n",
       "      <td>10.0</td>\n",
       "      <td>7.0</td>\n",
       "      <td>discount</td>\n",
       "      <td>2.0</td>\n",
       "    </tr>\n",
       "    <tr>\n",
       "      <th>4</th>\n",
       "      <td>118</td>\n",
       "      <td>20170925</td>\n",
       "      <td>None</td>\n",
       "      <td>8ec6ce2a7e7949b1bf142def7d0e0586</td>\n",
       "      <td>NaN</td>\n",
       "      <td>offer received</td>\n",
       "      <td>408</td>\n",
       "      <td>NaN</td>\n",
       "      <td>NaN</td>\n",
       "      <td>2906b810c7d4411798c6938adc9daaa5</td>\n",
       "      <td>[web, email, mobile]</td>\n",
       "      <td>10.0</td>\n",
       "      <td>7.0</td>\n",
       "      <td>discount</td>\n",
       "      <td>2.0</td>\n",
       "    </tr>\n",
       "  </tbody>\n",
       "</table>\n",
       "</div>"
      ],
      "text/plain": [
       "   age  became_member_on gender                       id_customer   income  \\\n",
       "0  118          20170212   None  68be06ca386d4c31939f3a4f0e3dd783      NaN   \n",
       "1  118          20170212   None  68be06ca386d4c31939f3a4f0e3dd783      NaN   \n",
       "2   68          20180426      M  e2127556f4f64592b11af22de27a7932  70000.0   \n",
       "3   68          20180426      M  e2127556f4f64592b11af22de27a7932  70000.0   \n",
       "4  118          20170925   None  8ec6ce2a7e7949b1bf142def7d0e0586      NaN   \n",
       "\n",
       "            event  time  reward_amount  transaction_amount  \\\n",
       "0  offer received   168            NaN                 NaN   \n",
       "1    offer viewed   216            NaN                 NaN   \n",
       "2  offer received     0            NaN                 NaN   \n",
       "3    offer viewed    18            NaN                 NaN   \n",
       "4  offer received   408            NaN                 NaN   \n",
       "\n",
       "                           offer_id              channels  difficulty  \\\n",
       "0  2906b810c7d4411798c6938adc9daaa5  [web, email, mobile]        10.0   \n",
       "1  2906b810c7d4411798c6938adc9daaa5  [web, email, mobile]        10.0   \n",
       "2  2906b810c7d4411798c6938adc9daaa5  [web, email, mobile]        10.0   \n",
       "3  2906b810c7d4411798c6938adc9daaa5  [web, email, mobile]        10.0   \n",
       "4  2906b810c7d4411798c6938adc9daaa5  [web, email, mobile]        10.0   \n",
       "\n",
       "   duration offer_type  reward  \n",
       "0       7.0   discount     2.0  \n",
       "1       7.0   discount     2.0  \n",
       "2       7.0   discount     2.0  \n",
       "3       7.0   discount     2.0  \n",
       "4       7.0   discount     2.0  "
      ]
     },
     "execution_count": 12,
     "metadata": {},
     "output_type": "execute_result"
    }
   ],
   "source": [
    "df_complete.head()"
   ]
  },
  {
   "cell_type": "code",
   "execution_count": 13,
   "metadata": {},
   "outputs": [],
   "source": [
    "df_complete['channels'] = df_complete['channels'].str.len()"
   ]
  },
  {
   "cell_type": "code",
   "execution_count": 14,
   "metadata": {},
   "outputs": [
    {
     "data": {
      "text/plain": [
       "age                        0\n",
       "became_member_on           0\n",
       "gender                 33772\n",
       "id_customer                0\n",
       "income                 33772\n",
       "event                      0\n",
       "time                       0\n",
       "reward_amount         272955\n",
       "transaction_amount    167581\n",
       "offer_id              172532\n",
       "channels              172532\n",
       "difficulty            172532\n",
       "duration              172532\n",
       "offer_type            172532\n",
       "reward                172532\n",
       "dtype: int64"
      ]
     },
     "execution_count": 14,
     "metadata": {},
     "output_type": "execute_result"
    }
   ],
   "source": [
    "df_complete.isnull().sum()"
   ]
  },
  {
   "cell_type": "markdown",
   "metadata": {},
   "source": [
    "## Categorical encoding scheme"
   ]
  },
  {
   "cell_type": "markdown",
   "metadata": {},
   "source": [
    "### Channels column"
   ]
  },
  {
   "cell_type": "markdown",
   "metadata": {},
   "source": [
    "The channels column wil be converted to length. All channels have `[web, email]` which will be two. `[web, email, mobile]` is three,  and `[web, email, mobile, social]` is now 4. "
   ]
  },
  {
   "cell_type": "markdown",
   "metadata": {},
   "source": [
    "### Offer type column"
   ]
  },
  {
   "cell_type": "markdown",
   "metadata": {},
   "source": [
    "The offer types are also numeric now `bogo` = 1, `discount` = 2, and `informational` = 3"
   ]
  },
  {
   "cell_type": "markdown",
   "metadata": {},
   "source": [
    "### Gender column"
   ]
  },
  {
   "cell_type": "markdown",
   "metadata": {},
   "source": [
    "`Male` = 1, `Female` = 3, `Other`=3, and None = 0\n",
    "Other and none may be in some way linked via identity, but I'll keep them separate in the event that it is significant. "
   ]
  },
  {
   "cell_type": "markdown",
   "metadata": {},
   "source": [
    "### Target: Event encoding"
   ]
  },
  {
   "cell_type": "markdown",
   "metadata": {},
   "source": [
    "Offer recieved and offer viewed, while important for demographics, is probably not all that important in so much as they both may not convert to a sale or offer completion. As such, I'll group them together and try to predict completion, transaction, or none."
   ]
  },
  {
   "cell_type": "markdown",
   "metadata": {},
   "source": [
    "TARGET Encoding:\n",
    "`offer received` = 0, `offer viewed` = 1, `offer completed` = 2, `transaction` = 3 "
   ]
  },
  {
   "cell_type": "markdown",
   "metadata": {},
   "source": [
    "### Offer id and customer id"
   ]
  },
  {
   "cell_type": "markdown",
   "metadata": {},
   "source": [
    "These unique identitfiers will be replaced by integer hash ids so they can be tracked. "
   ]
  },
  {
   "cell_type": "markdown",
   "metadata": {},
   "source": [
    "## Imputation"
   ]
  },
  {
   "cell_type": "markdown",
   "metadata": {},
   "source": [
    "Income value will be filled with the median value only about 11% of the income data is missing, so this is both safe and unlikely to bias the model in a meaningful way. To be on the safe side, I'll fill the values inside the cross validation folds so as to spread out the filled values relative to the CV fold. "
   ]
  },
  {
   "cell_type": "code",
   "execution_count": 15,
   "metadata": {},
   "outputs": [],
   "source": [
    "def parse_offers(row):\n",
    "    if row == 'bogo':\n",
    "        label = 1\n",
    "    elif row == 'discount':\n",
    "        label = 2\n",
    "    else: label = 3\n",
    "    return label"
   ]
  },
  {
   "cell_type": "code",
   "execution_count": 16,
   "metadata": {},
   "outputs": [],
   "source": [
    "df_complete['offer_type'] = df_complete.offer_type.apply(lambda x: parse_offers(x))"
   ]
  },
  {
   "cell_type": "code",
   "execution_count": 17,
   "metadata": {},
   "outputs": [],
   "source": [
    "events = {'offer received':0,'offer viewed':1,'offer completed':2,'transaction':3}\n",
    "genders = {'M':1,'F':2, 'O':3, None:0}\n",
    "\n",
    "df_complete.event = [events[item] for item in df_complete.event]\n",
    "df_complete.gender = [genders[item] for item in df_complete.gender]"
   ]
  },
  {
   "cell_type": "code",
   "execution_count": 18,
   "metadata": {},
   "outputs": [],
   "source": [
    "df_complete.id_customer = [hash(uid) for uid in df_complete.id_customer]\n",
    "df_complete.offer_id = [hash(oid) for oid in df_complete.offer_id]"
   ]
  },
  {
   "cell_type": "markdown",
   "metadata": {},
   "source": [
    "### Filling NaN values"
   ]
  },
  {
   "cell_type": "code",
   "execution_count": 19,
   "metadata": {},
   "outputs": [
    {
     "data": {
      "text/plain": [
       "age                        0\n",
       "became_member_on           0\n",
       "gender                     0\n",
       "id_customer                0\n",
       "income                 33772\n",
       "event                      0\n",
       "time                       0\n",
       "reward_amount         272955\n",
       "transaction_amount    167581\n",
       "offer_id                   0\n",
       "channels              172532\n",
       "difficulty            172532\n",
       "duration              172532\n",
       "offer_type                 0\n",
       "reward                172532\n",
       "dtype: int64"
      ]
     },
     "execution_count": 19,
     "metadata": {},
     "output_type": "execute_result"
    }
   ],
   "source": [
    "df_complete.isnull().sum()"
   ]
  },
  {
   "cell_type": "markdown",
   "metadata": {},
   "source": [
    "Channels, difficulty, duration, and reward all have the same number of missing. They are then likely the observations in which an offer was not attempted. Reward amount can be zeroed for Null values, as those were likely 0 reward given. I assume that Null values for transaction amounts were either zero dollars or some other interaction that was outside the ability to track. Thus this remaining values will be filled with zeros. "
   ]
  },
  {
   "cell_type": "code",
   "execution_count": 20,
   "metadata": {},
   "outputs": [],
   "source": [
    "values = {'reward_amount':0,\n",
    "          'transaction_amount':0,\n",
    "          'channels':0,\n",
    "          'difficulty':0,\n",
    "          'duration':0,\n",
    "          'reward':0}\n",
    "df_complete.fillna(value=values, inplace=True)"
   ]
  },
  {
   "cell_type": "code",
   "execution_count": 21,
   "metadata": {},
   "outputs": [
    {
     "data": {
      "text/plain": [
       "age                       0\n",
       "became_member_on          0\n",
       "gender                    0\n",
       "id_customer               0\n",
       "income                33772\n",
       "event                     0\n",
       "time                      0\n",
       "reward_amount             0\n",
       "transaction_amount        0\n",
       "offer_id                  0\n",
       "channels                  0\n",
       "difficulty                0\n",
       "duration                  0\n",
       "offer_type                0\n",
       "reward                    0\n",
       "dtype: int64"
      ]
     },
     "execution_count": 21,
     "metadata": {},
     "output_type": "execute_result"
    }
   ],
   "source": [
    "df_complete.isnull().sum()"
   ]
  },
  {
   "cell_type": "code",
   "execution_count": 68,
   "metadata": {},
   "outputs": [
    {
     "data": {
      "text/html": [
       "<div>\n",
       "<style scoped>\n",
       "    .dataframe tbody tr th:only-of-type {\n",
       "        vertical-align: middle;\n",
       "    }\n",
       "\n",
       "    .dataframe tbody tr th {\n",
       "        vertical-align: top;\n",
       "    }\n",
       "\n",
       "    .dataframe thead th {\n",
       "        text-align: right;\n",
       "    }\n",
       "</style>\n",
       "<table border=\"1\" class=\"dataframe\">\n",
       "  <thead>\n",
       "    <tr style=\"text-align: right;\">\n",
       "      <th></th>\n",
       "      <th>age</th>\n",
       "      <th>became_member_on</th>\n",
       "      <th>gender</th>\n",
       "      <th>id_customer</th>\n",
       "      <th>income</th>\n",
       "      <th>event</th>\n",
       "      <th>time</th>\n",
       "      <th>reward_amount</th>\n",
       "      <th>transaction_amount</th>\n",
       "      <th>offer_id</th>\n",
       "      <th>channels</th>\n",
       "      <th>difficulty</th>\n",
       "      <th>duration</th>\n",
       "      <th>offer_type</th>\n",
       "      <th>reward</th>\n",
       "    </tr>\n",
       "  </thead>\n",
       "  <tbody>\n",
       "    <tr>\n",
       "      <th>0</th>\n",
       "      <td>118</td>\n",
       "      <td>20170212</td>\n",
       "      <td>0</td>\n",
       "      <td>-6118677641434346028</td>\n",
       "      <td>NaN</td>\n",
       "      <td>0</td>\n",
       "      <td>168</td>\n",
       "      <td>0.0</td>\n",
       "      <td>0.0</td>\n",
       "      <td>6812568168499232363</td>\n",
       "      <td>3.0</td>\n",
       "      <td>10.0</td>\n",
       "      <td>7.0</td>\n",
       "      <td>2</td>\n",
       "      <td>2.0</td>\n",
       "    </tr>\n",
       "    <tr>\n",
       "      <th>1</th>\n",
       "      <td>118</td>\n",
       "      <td>20170212</td>\n",
       "      <td>0</td>\n",
       "      <td>-6118677641434346028</td>\n",
       "      <td>NaN</td>\n",
       "      <td>0</td>\n",
       "      <td>216</td>\n",
       "      <td>0.0</td>\n",
       "      <td>0.0</td>\n",
       "      <td>6812568168499232363</td>\n",
       "      <td>3.0</td>\n",
       "      <td>10.0</td>\n",
       "      <td>7.0</td>\n",
       "      <td>2</td>\n",
       "      <td>2.0</td>\n",
       "    </tr>\n",
       "    <tr>\n",
       "      <th>2</th>\n",
       "      <td>68</td>\n",
       "      <td>20180426</td>\n",
       "      <td>1</td>\n",
       "      <td>-8854229372366362354</td>\n",
       "      <td>70000.0</td>\n",
       "      <td>0</td>\n",
       "      <td>0</td>\n",
       "      <td>0.0</td>\n",
       "      <td>0.0</td>\n",
       "      <td>6812568168499232363</td>\n",
       "      <td>3.0</td>\n",
       "      <td>10.0</td>\n",
       "      <td>7.0</td>\n",
       "      <td>2</td>\n",
       "      <td>2.0</td>\n",
       "    </tr>\n",
       "    <tr>\n",
       "      <th>3</th>\n",
       "      <td>68</td>\n",
       "      <td>20180426</td>\n",
       "      <td>1</td>\n",
       "      <td>-8854229372366362354</td>\n",
       "      <td>70000.0</td>\n",
       "      <td>0</td>\n",
       "      <td>18</td>\n",
       "      <td>0.0</td>\n",
       "      <td>0.0</td>\n",
       "      <td>6812568168499232363</td>\n",
       "      <td>3.0</td>\n",
       "      <td>10.0</td>\n",
       "      <td>7.0</td>\n",
       "      <td>2</td>\n",
       "      <td>2.0</td>\n",
       "    </tr>\n",
       "    <tr>\n",
       "      <th>4</th>\n",
       "      <td>118</td>\n",
       "      <td>20170925</td>\n",
       "      <td>0</td>\n",
       "      <td>-6795999993149573153</td>\n",
       "      <td>NaN</td>\n",
       "      <td>0</td>\n",
       "      <td>408</td>\n",
       "      <td>0.0</td>\n",
       "      <td>0.0</td>\n",
       "      <td>6812568168499232363</td>\n",
       "      <td>3.0</td>\n",
       "      <td>10.0</td>\n",
       "      <td>7.0</td>\n",
       "      <td>2</td>\n",
       "      <td>2.0</td>\n",
       "    </tr>\n",
       "  </tbody>\n",
       "</table>\n",
       "</div>"
      ],
      "text/plain": [
       "   age  became_member_on  gender          id_customer   income  event  time  \\\n",
       "0  118          20170212       0 -6118677641434346028      NaN      0   168   \n",
       "1  118          20170212       0 -6118677641434346028      NaN      0   216   \n",
       "2   68          20180426       1 -8854229372366362354  70000.0      0     0   \n",
       "3   68          20180426       1 -8854229372366362354  70000.0      0    18   \n",
       "4  118          20170925       0 -6795999993149573153      NaN      0   408   \n",
       "\n",
       "   reward_amount  transaction_amount             offer_id  channels  \\\n",
       "0            0.0                 0.0  6812568168499232363       3.0   \n",
       "1            0.0                 0.0  6812568168499232363       3.0   \n",
       "2            0.0                 0.0  6812568168499232363       3.0   \n",
       "3            0.0                 0.0  6812568168499232363       3.0   \n",
       "4            0.0                 0.0  6812568168499232363       3.0   \n",
       "\n",
       "   difficulty  duration  offer_type  reward  \n",
       "0        10.0       7.0           2     2.0  \n",
       "1        10.0       7.0           2     2.0  \n",
       "2        10.0       7.0           2     2.0  \n",
       "3        10.0       7.0           2     2.0  \n",
       "4        10.0       7.0           2     2.0  "
      ]
     },
     "execution_count": 68,
     "metadata": {},
     "output_type": "execute_result"
    }
   ],
   "source": [
    "df_complete.head()"
   ]
  },
  {
   "cell_type": "code",
   "execution_count": 73,
   "metadata": {},
   "outputs": [],
   "source": [
    "save_dataframe = True\n",
    "load_dataframe = False\n",
    "if save_dataframe == True:\n",
    "    joblib.dump(df_complete, 'data/dataframe_4_targets')\n",
    "if load_dataframe == True:\n",
    "    df_complete = joblib.load('data/dataframe')"
   ]
  },
  {
   "cell_type": "markdown",
   "metadata": {},
   "source": [
    "## Multilabel Classification"
   ]
  },
  {
   "cell_type": "markdown",
   "metadata": {},
   "source": [
    "### Test set for model evaluation"
   ]
  },
  {
   "cell_type": "code",
   "execution_count": 24,
   "metadata": {},
   "outputs": [],
   "source": [
    "X = df_complete.drop('event', axis=1)\n",
    "y = df_complete.event"
   ]
  },
  {
   "cell_type": "code",
   "execution_count": 25,
   "metadata": {},
   "outputs": [],
   "source": [
    "X_train, X_test, y_train, y_test = train_test_split(X, y, test_size=0.10, random_state=9450)"
   ]
  },
  {
   "cell_type": "code",
   "execution_count": 47,
   "metadata": {},
   "outputs": [],
   "source": [
    "training_set = pd.concat([X_train, y_train],axis=1)"
   ]
  },
  {
   "cell_type": "markdown",
   "metadata": {},
   "source": [
    "### Random Search XGB model"
   ]
  },
  {
   "cell_type": "code",
   "execution_count": 48,
   "metadata": {},
   "outputs": [],
   "source": [
    "models = {}"
   ]
  },
  {
   "cell_type": "code",
   "execution_count": 49,
   "metadata": {
    "scrolled": false
   },
   "outputs": [],
   "source": [
    "import random\n",
    "N_TRIALS = 3\n",
    "for i in range(N_TRIALS):\n",
    "    learning_rate_factor = random.randint(1,25)\n",
    "    xgb_rs = xgb.XGBClassifier(\n",
    "        learning_rate=0.25 / learning_rate_factor,\n",
    "        n_estimators=random.randint(20, 400),\n",
    "        max_depth=random.randint(2, 10),\n",
    "        min_child_weight=random.randint(1, 10),\n",
    "        gamma=random.randint(0, 50)/5,\n",
    "        subsample=1-(random.randint(1, 60)/100),\n",
    "        colsample_bytree=1-(random.randint(1, 60)/100),\n",
    "        random_state=9450, \n",
    "        objective='multi:softmax'\n",
    "    )\n",
    "    model = test_model(training_set, xgb_rs, cv_folds=5, model_id=i)\n",
    "    models.update({i:model})"
   ]
  },
  {
   "cell_type": "code",
   "execution_count": 60,
   "metadata": {},
   "outputs": [
    {
     "data": {
      "text/plain": [
       "[{'model_id': 1,\n",
       "  'model': XGBClassifier(base_score=0.5, booster='gbtree', colsample_bylevel=1,\n",
       "                colsample_bytree=0.43000000000000005, gamma=7.0,\n",
       "                learning_rate=0.013888888888888888, max_delta_step=0,\n",
       "                max_depth=10, min_child_weight=5, missing=None, n_estimators=395,\n",
       "                n_jobs=1, nthread=None, objective='multi:softprob',\n",
       "                random_state=9450, reg_alpha=0, reg_lambda=1, scale_pos_weight=1,\n",
       "                seed=None, silent=True, subsample=0.6599999999999999),\n",
       "  'f1_score': {'mean': 0.8697, 'sd': 0.0},\n",
       "  'recall': {'mean': 0.7777, 'sd': 0.0056},\n",
       "  'precision': {'mean': 1.0, 'sd': 0.0},\n",
       "  'specificity': {'mean': 1.0, 'sd': 0.0},\n",
       "  'balanced_accuracy': {'mean': 0.8888, 'sd': 0.0028},\n",
       "  'accuracy': {'mean': 0.9581, 'sd': 0.0011}},\n",
       " {'model_id': 2,\n",
       "  'model': XGBClassifier(base_score=0.5, booster='gbtree', colsample_bylevel=1,\n",
       "                colsample_bytree=0.98, gamma=7.0,\n",
       "                learning_rate=0.014705882352941176, max_delta_step=0,\n",
       "                max_depth=10, min_child_weight=1, missing=None, n_estimators=124,\n",
       "                n_jobs=1, nthread=None, objective='multi:softprob',\n",
       "                random_state=9450, reg_alpha=0, reg_lambda=1, scale_pos_weight=1,\n",
       "                seed=None, silent=True, subsample=0.5900000000000001),\n",
       "  'f1_score': {'mean': 0.8697, 'sd': 0.0},\n",
       "  'recall': {'mean': 0.7777, 'sd': 0.0056},\n",
       "  'precision': {'mean': 1.0, 'sd': 0.0},\n",
       "  'specificity': {'mean': 1.0, 'sd': 0.0},\n",
       "  'balanced_accuracy': {'mean': 0.8888, 'sd': 0.0028},\n",
       "  'accuracy': {'mean': 0.9581, 'sd': 0.0011}},\n",
       " {'model_id': 0,\n",
       "  'model': XGBClassifier(base_score=0.5, booster='gbtree', colsample_bylevel=1,\n",
       "                colsample_bytree=0.8, gamma=0.6,\n",
       "                learning_rate=0.013888888888888888, max_delta_step=0, max_depth=6,\n",
       "                min_child_weight=3, missing=None, n_estimators=175, n_jobs=1,\n",
       "                nthread=None, objective='multi:softprob', random_state=9450,\n",
       "                reg_alpha=0, reg_lambda=1, scale_pos_weight=1, seed=None,\n",
       "                silent=True, subsample=0.7),\n",
       "  'f1_score': {'mean': 0.8633, 'sd': 0.0},\n",
       "  'recall': {'mean': 0.7514, 'sd': 0.0058},\n",
       "  'precision': {'mean': 1.0, 'sd': 0.0},\n",
       "  'specificity': {'mean': 1.0, 'sd': 0.0},\n",
       "  'balanced_accuracy': {'mean': 0.8757, 'sd': 0.0029},\n",
       "  'accuracy': {'mean': 0.9531, 'sd': 0.0011}}]"
      ]
     },
     "execution_count": 60,
     "metadata": {},
     "output_type": "execute_result"
    }
   ],
   "source": [
    "rank_top_performers(models, metric='accuracy')"
   ]
  },
  {
   "cell_type": "code",
   "execution_count": 62,
   "metadata": {},
   "outputs": [
    {
     "data": {
      "text/plain": [
       "XGBClassifier(base_score=0.5, booster='gbtree', colsample_bylevel=1,\n",
       "              colsample_bytree=0.43000000000000005, gamma=7.0,\n",
       "              learning_rate=0.013888888888888888, max_delta_step=0,\n",
       "              max_depth=10, min_child_weight=5, missing=None, n_estimators=395,\n",
       "              n_jobs=1, nthread=None, objective='multi:softprob',\n",
       "              random_state=9450, reg_alpha=0, reg_lambda=1, scale_pos_weight=1,\n",
       "              seed=None, silent=True, subsample=0.6599999999999999)"
      ]
     },
     "execution_count": 62,
     "metadata": {},
     "output_type": "execute_result"
    }
   ],
   "source": [
    "top_model = models[1]['model']\n",
    "top_model"
   ]
  },
  {
   "cell_type": "markdown",
   "metadata": {},
   "source": [
    "### Model Evaluation"
   ]
  },
  {
   "cell_type": "code",
   "execution_count": 74,
   "metadata": {},
   "outputs": [],
   "source": [
    "save_model = True\n",
    "\n",
    "load_model = False\n",
    "\n",
    "if save_model == True:\n",
    "    joblib.dump(top_model, 'data/xgb_model_4_target')\n",
    "if load_model == True:\n",
    "    joblib.load('data/xgb_model_1')"
   ]
  },
  {
   "cell_type": "code",
   "execution_count": 53,
   "metadata": {},
   "outputs": [],
   "source": [
    "val_preds = top_model.predict(X_test.values)"
   ]
  },
  {
   "cell_type": "code",
   "execution_count": 54,
   "metadata": {},
   "outputs": [],
   "source": [
    "con_mat = confusion_matrix(y_true=y_test, y_pred=val_preds)\n",
    "cls_rpt = classification_report(y_test, val_preds)\n",
    "acc = accuracy_score(y_test, val_preds)"
   ]
  },
  {
   "cell_type": "code",
   "execution_count": 55,
   "metadata": {},
   "outputs": [
    {
     "name": "stdout",
     "output_type": "stream",
     "text": [
      "[[ 1274  6272     0     0]\n",
      " [  176  5513     0     0]\n",
      " [    0     0  3416     0]\n",
      " [    0     0     0 14003]]\n",
      "\n",
      "              precision    recall  f1-score   support\n",
      "\n",
      "           0       0.88      0.17      0.28      7546\n",
      "           1       0.47      0.97      0.63      5689\n",
      "           2       1.00      1.00      1.00      3416\n",
      "           3       1.00      1.00      1.00     14003\n",
      "\n",
      "    accuracy                           0.79     30654\n",
      "   macro avg       0.84      0.78      0.73     30654\n",
      "weighted avg       0.87      0.79      0.76     30654\n",
      "\n",
      "\n",
      "accuracy score: 78.97%\n"
     ]
    }
   ],
   "source": [
    "print(con_mat, cls_rpt, f'accuracy score: {acc:.2%}', sep='\\n\\n')"
   ]
  },
  {
   "cell_type": "markdown",
   "metadata": {},
   "source": [
    "Events are numeric as such: \n",
    "    \n",
    "`offer received` = 0, `offer viewed` = 1, `offer completed` = 2, `transaction` = 3 \n",
    "\n",
    "This is a great result for predicting something like a transaction or offer completion. If the goal is to find who will buy without offer and who will buy with an offer, then this is pretty good. "
   ]
  },
  {
   "cell_type": "markdown",
   "metadata": {},
   "source": [
    "### Feature Importance to Class Label"
   ]
  },
  {
   "cell_type": "markdown",
   "metadata": {},
   "source": [
    "The plot below shows the relative importance that each feature in the dataset holds to overall prediction of class label. We see that business level features are the strongest predictors for each class not demographics. "
   ]
  },
  {
   "cell_type": "code",
   "execution_count": 56,
   "metadata": {},
   "outputs": [
    {
     "data": {
      "image/png": "[encoded data removed]",
      "text/plain": [
       "<Figure size 864x576 with 1 Axes>"
      ]
     },
     "metadata": {
      "needs_background": "light"
     },
     "output_type": "display_data"
    }
   ],
   "source": [
    "plot_features_importance(df_complete, top_model)"
   ]
  },
  {
   "cell_type": "markdown",
   "metadata": {},
   "source": [
    "The top features that seem to dictate the likely hood a customer will transact, complete offer, view, or receive. One of the strongest predictors is reward amount, duration, the specific offer, and transaction amount. Secondary predictors apprear to be offer type, marketing saturation, and difficulty. The second and third models evaluated tell a similar story. Since offer id carries a heavy predictive power, future work could be to determine the significance of each offer for completion. Reward amount was a top predictor as well, so that is also an avenue for further work. Which amount if optimal for completion.\n",
    "\n",
    "Interestingly enough; age, gender, income, and offer type carry no (or little) predictive power. There is some literature support this idea re: Martens and Provost (2011); at a certain point sociodemogrpahics add no additional predictive power when compared to transaction activity. "
   ]
  },
  {
   "cell_type": "markdown",
   "metadata": {},
   "source": [
    "Below are the two other random search models. Their fearure importance plot show a similar story to the one above. Age, gender, income, general demographic data doesn't not seem to be the deciding factor on who completes and offer or transacts without an offer. "
   ]
  },
  {
   "cell_type": "code",
   "execution_count": 63,
   "metadata": {},
   "outputs": [
    {
     "data": {
      "text/plain": [
       "{'model_id': 2,\n",
       " 'model': XGBClassifier(base_score=0.5, booster='gbtree', colsample_bylevel=1,\n",
       "               colsample_bytree=0.98, gamma=7.0,\n",
       "               learning_rate=0.014705882352941176, max_delta_step=0,\n",
       "               max_depth=10, min_child_weight=1, missing=None, n_estimators=124,\n",
       "               n_jobs=1, nthread=None, objective='multi:softprob',\n",
       "               random_state=9450, reg_alpha=0, reg_lambda=1, scale_pos_weight=1,\n",
       "               seed=None, silent=True, subsample=0.5900000000000001),\n",
       " 'f1_score': {'mean': 0.8697, 'sd': 0.0},\n",
       " 'recall': {'mean': 0.7777, 'sd': 0.0056},\n",
       " 'precision': {'mean': 1.0, 'sd': 0.0},\n",
       " 'specificity': {'mean': 1.0, 'sd': 0.0},\n",
       " 'balanced_accuracy': {'mean': 0.8888, 'sd': 0.0028},\n",
       " 'accuracy': {'mean': 0.9581, 'sd': 0.0011}}"
      ]
     },
     "execution_count": 63,
     "metadata": {},
     "output_type": "execute_result"
    }
   ],
   "source": [
    "models[2]"
   ]
  },
  {
   "cell_type": "code",
   "execution_count": 64,
   "metadata": {},
   "outputs": [],
   "source": [
    "second_model = models[2]['model']"
   ]
  },
  {
   "cell_type": "code",
   "execution_count": 65,
   "metadata": {},
   "outputs": [
    {
     "data": {
      "image/png": "[encoded data removed]",
      "text/plain": [
       "<Figure size 864x576 with 1 Axes>"
      ]
     },
     "metadata": {
      "needs_background": "light"
     },
     "output_type": "display_data"
    }
   ],
   "source": [
    "plot_features_importance(df_complete, second_model)"
   ]
  },
  {
   "cell_type": "code",
   "execution_count": 67,
   "metadata": {},
   "outputs": [
    {
     "data": {
      "text/plain": [
       "{'model_id': 0,\n",
       " 'model': XGBClassifier(base_score=0.5, booster='gbtree', colsample_bylevel=1,\n",
       "               colsample_bytree=0.8, gamma=0.6,\n",
       "               learning_rate=0.013888888888888888, max_delta_step=0, max_depth=6,\n",
       "               min_child_weight=3, missing=None, n_estimators=175, n_jobs=1,\n",
       "               nthread=None, objective='multi:softprob', random_state=9450,\n",
       "               reg_alpha=0, reg_lambda=1, scale_pos_weight=1, seed=None,\n",
       "               silent=True, subsample=0.7),\n",
       " 'f1_score': {'mean': 0.8633, 'sd': 0.0},\n",
       " 'recall': {'mean': 0.7514, 'sd': 0.0058},\n",
       " 'precision': {'mean': 1.0, 'sd': 0.0},\n",
       " 'specificity': {'mean': 1.0, 'sd': 0.0},\n",
       " 'balanced_accuracy': {'mean': 0.8757, 'sd': 0.0029},\n",
       " 'accuracy': {'mean': 0.9531, 'sd': 0.0011}}"
      ]
     },
     "execution_count": 67,
     "metadata": {},
     "output_type": "execute_result"
    }
   ],
   "source": [
    "models[0]"
   ]
  },
  {
   "cell_type": "code",
   "execution_count": 68,
   "metadata": {},
   "outputs": [],
   "source": [
    "third_model = models[0]['model']"
   ]
  },
  {
   "cell_type": "code",
   "execution_count": 69,
   "metadata": {},
   "outputs": [
    {
     "data": {
      "image/png": "[encoded data removed]",
      "text/plain": [
       "<Figure size 864x576 with 1 Axes>"
      ]
     },
     "metadata": {
      "needs_background": "light"
     },
     "output_type": "display_data"
    }
   ],
   "source": [
    "plot_features_importance(df_complete, third_model)"
   ]
  },
  {
   "cell_type": "markdown",
   "metadata": {},
   "source": [
    "### BASELINE: Random class distribution prediction"
   ]
  },
  {
   "cell_type": "code",
   "execution_count": 70,
   "metadata": {},
   "outputs": [],
   "source": [
    "random_classes = np.random.randint(0,4, size=len(y_test))"
   ]
  },
  {
   "cell_type": "code",
   "execution_count": 71,
   "metadata": {},
   "outputs": [],
   "source": [
    "con_mat_ran = confusion_matrix(y_true=y_test, y_pred=random_classes)\n",
    "cls_rpt_ran = classification_report(y_test, random_classes)\n",
    "acc_ran = accuracy_score(y_test, random_classes)"
   ]
  },
  {
   "cell_type": "code",
   "execution_count": 72,
   "metadata": {},
   "outputs": [
    {
     "name": "stdout",
     "output_type": "stream",
     "text": [
      "[[1910 1873 1939 1824]\n",
      " [1421 1414 1386 1468]\n",
      " [ 864  851  853  848]\n",
      " [3505 3455 3548 3495]]\n",
      "\n",
      "              precision    recall  f1-score   support\n",
      "\n",
      "           0       0.25      0.25      0.25      7546\n",
      "           1       0.19      0.25      0.21      5689\n",
      "           2       0.11      0.25      0.15      3416\n",
      "           3       0.46      0.25      0.32     14003\n",
      "\n",
      "    accuracy                           0.25     30654\n",
      "   macro avg       0.25      0.25      0.23     30654\n",
      "weighted avg       0.32      0.25      0.27     30654\n",
      "\n",
      "\n",
      "accuracy score for random class distribution: 25.03%\n"
     ]
    }
   ],
   "source": [
    "print(con_mat_ran, cls_rpt_ran, f'accuracy score for random class distribution: {acc_ran:.2%}', sep='\\n\\n')"
   ]
  },
  {
   "cell_type": "markdown",
   "metadata": {},
   "source": [
    "So a random selection of classes, would be what we expect in terms of accuracy; no different than guessing. The predictive power of completing offers is particularly low for a random distribution of offer completion classes. "
   ]
  },
  {
   "cell_type": "markdown",
   "metadata": {},
   "source": [
    "## Citation"
   ]
  },
  {
   "cell_type": "markdown",
   "metadata": {},
   "source": [
    "- Martens, D., & Provost, F. (2011). Pseudo-social network targeting from consumer transaction data. Workinng paper CeDER-11-05, New York University - Stern School of Business. "
   ]
  }
 ],
 "metadata": {
  "kernelspec": {
   "display_name": "Python 3",
   "language": "python",
   "name": "python3"
  },
  "language_info": {
   "codemirror_mode": {
    "name": "ipython",
    "version": 3
   },
   "file_extension": ".py",
   "mimetype": "text/x-python",
   "name": "python",
   "nbconvert_exporter": "python",
   "pygments_lexer": "ipython3",
   "version": "3.7.3"
  },
  "toc": {
   "base_numbering": 1,
   "nav_menu": {},
   "number_sections": true,
   "sideBar": false,
   "skip_h1_title": true,
   "title_cell": "Table of Contents",
   "title_sidebar": "Contents",
   "toc_cell": true,
   "toc_position": {},
   "toc_section_display": true,
   "toc_window_display": false
  }
 },
 "nbformat": 4,
 "nbformat_minor": 4
}
